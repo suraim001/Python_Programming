{
  "nbformat": 4,
  "nbformat_minor": 0,
  "metadata": {
    "colab": {
      "provenance": [],
      "mount_file_id": "1GvJ8W139OZlt04M0KD0jv-pEpTHteiSo",
      "authorship_tag": "ABX9TyOzuXYPGtu8qRzLKW6ltYGN",
      "include_colab_link": true
    },
    "kernelspec": {
      "name": "python3",
      "display_name": "Python 3"
    },
    "language_info": {
      "name": "python"
    }
  },
  "cells": [
    {
      "cell_type": "markdown",
      "metadata": {
        "id": "view-in-github",
        "colab_type": "text"
      },
      "source": [
        "<a href=\"https://colab.research.google.com/github/suraim001/Python_Programming/blob/main/python.ipynb\" target=\"_parent\"><img src=\"https://colab.research.google.com/assets/colab-badge.svg\" alt=\"Open In Colab\"/></a>"
      ]
    },
    {
      "cell_type": "markdown",
      "source": [
        "print: Hello World"
      ],
      "metadata": {
        "id": "eJ6_REmj3rDq"
      }
    },
    {
      "cell_type": "code",
      "execution_count": null,
      "metadata": {
        "colab": {
          "base_uri": "https://localhost:8080/"
        },
        "id": "6rO_HDyzzyTl",
        "outputId": "2ec655f4-32ca-4a15-f6b7-63d90cfa3abd"
      },
      "outputs": [
        {
          "output_type": "stream",
          "name": "stdout",
          "text": [
            "Hello World\n",
            "Hello World\n"
          ]
        },
        {
          "output_type": "execute_result",
          "data": {
            "text/plain": [
              "22"
            ]
          },
          "metadata": {},
          "execution_count": 1
        }
      ],
      "source": [
        "print(\"Hello World\")\n",
        "wish = \"Hello World\"\n",
        "print(wish)\n",
        "age = 22\n",
        "age"
      ]
    },
    {
      "cell_type": "markdown",
      "source": [
        "#Data type\n",
        "1. string\n",
        "2. int\n",
        "3. bool\n",
        "4. float"
      ],
      "metadata": {
        "id": "IIUTgPRY3yza"
      }
    },
    {
      "cell_type": "code",
      "source": [
        "print(5)"
      ],
      "metadata": {
        "colab": {
          "base_uri": "https://localhost:8080/"
        },
        "id": "fBJudyRi29X3",
        "outputId": "cd478b5d-a3cc-48e6-da4b-867e48122829"
      },
      "execution_count": null,
      "outputs": [
        {
          "output_type": "stream",
          "name": "stdout",
          "text": [
            "5\n"
          ]
        }
      ]
    },
    {
      "cell_type": "code",
      "source": [
        "print(type(5))"
      ],
      "metadata": {
        "colab": {
          "base_uri": "https://localhost:8080/"
        },
        "id": "G2FgBdH83CBa",
        "outputId": "0080ec52-53a6-414f-8335-0968c6100037"
      },
      "execution_count": null,
      "outputs": [
        {
          "output_type": "stream",
          "name": "stdout",
          "text": [
            "<class 'int'>\n"
          ]
        }
      ]
    },
    {
      "cell_type": "code",
      "source": [
        "print(type(\"Hello World\"))"
      ],
      "metadata": {
        "colab": {
          "base_uri": "https://localhost:8080/"
        },
        "id": "eA1b7mkx3JTx",
        "outputId": "34273dea-8125-4c73-ef6e-ef358da4dfdd"
      },
      "execution_count": null,
      "outputs": [
        {
          "output_type": "stream",
          "name": "stdout",
          "text": [
            "<class 'str'>\n"
          ]
        }
      ]
    },
    {
      "cell_type": "code",
      "source": [
        "print(type(True))"
      ],
      "metadata": {
        "colab": {
          "base_uri": "https://localhost:8080/"
        },
        "id": "WhwD7TDN3Neg",
        "outputId": "b81d4b75-78bf-4e55-f021-52eba402c475"
      },
      "execution_count": null,
      "outputs": [
        {
          "output_type": "stream",
          "name": "stdout",
          "text": [
            "<class 'bool'>\n"
          ]
        }
      ]
    },
    {
      "cell_type": "code",
      "source": [
        "print(type(10.5))"
      ],
      "metadata": {
        "colab": {
          "base_uri": "https://localhost:8080/"
        },
        "id": "wLopcRlU3Qyu",
        "outputId": "b026b802-ea2a-44a1-a98e-0c47713abd2e"
      },
      "execution_count": null,
      "outputs": [
        {
          "output_type": "stream",
          "name": "stdout",
          "text": [
            "<class 'float'>\n"
          ]
        }
      ]
    },
    {
      "cell_type": "code",
      "source": [
        "name = \"Maisha\"\n",
        "print(name + \" got GPA 5. Congratulations to \" + name)"
      ],
      "metadata": {
        "colab": {
          "base_uri": "https://localhost:8080/"
        },
        "id": "tV1VtnTo3d7P",
        "outputId": "8802d0ae-7bff-434d-9add-ef96437abca1"
      },
      "execution_count": null,
      "outputs": [
        {
          "output_type": "stream",
          "name": "stdout",
          "text": [
            "Maisha got GPA 5. Congratulations to Maisha\n"
          ]
        }
      ]
    },
    {
      "cell_type": "code",
      "source": [
        "Name = input (\"Please give your name: \")\n",
        "print(Name + \" got GPA 5. Cogratulations to \" + Name)"
      ],
      "metadata": {
        "colab": {
          "base_uri": "https://localhost:8080/"
        },
        "id": "OzaDZ68w5kcr",
        "outputId": "822edf36-6d86-42da-9aae-3b020f90fa84"
      },
      "execution_count": null,
      "outputs": [
        {
          "output_type": "stream",
          "name": "stdout",
          "text": [
            "Please give your name: Suraim\n",
            "Suraim got GPA 5. Cogratulations to Suraim\n"
          ]
        }
      ]
    },
    {
      "cell_type": "code",
      "source": [
        "a = float(input(\"Enter a number: \"))\n",
        "b = float(input(\"Enter another number: \"))\n",
        "result = int(a+b)\n",
        "print((result))"
      ],
      "metadata": {
        "colab": {
          "base_uri": "https://localhost:8080/"
        },
        "id": "pRKASDIS6cXM",
        "outputId": "d5247406-9d2a-4f82-f88b-70ed7bbcb792"
      },
      "execution_count": null,
      "outputs": [
        {
          "output_type": "stream",
          "name": "stdout",
          "text": [
            "Enter a number: 23\n",
            "Enter another number: 67\n",
            "90\n"
          ]
        }
      ]
    },
    {
      "cell_type": "code",
      "source": [
        "print(5>7)\n",
        "print(bool(\"haha\"))\n",
        "print(bool(\"\"))\n",
        "print(bool(1))\n",
        "print(bool(0))\n",
        "print(bool(None))\n",
        "print(bool(True))\n",
        "print(bool(False))\n",
        "print(bool([]))\n",
        "print(bool({}))\n",
        "print(bool(()))\n",
        "print(bool(-1))\n",
        "print(bool(5))"
      ],
      "metadata": {
        "colab": {
          "base_uri": "https://localhost:8080/"
        },
        "id": "d1iHLeDX26lR",
        "outputId": "a442627f-528b-48e3-afa1-9824a5963866"
      },
      "execution_count": null,
      "outputs": [
        {
          "output_type": "stream",
          "name": "stdout",
          "text": [
            "False\n",
            "True\n",
            "False\n",
            "True\n",
            "False\n",
            "False\n",
            "True\n",
            "False\n",
            "False\n",
            "False\n",
            "False\n",
            "True\n",
            "True\n"
          ]
        }
      ]
    },
    {
      "cell_type": "markdown",
      "source": [
        "#operators\n",
        "\n",
        "1. Arithmetic Operators(+ , - , * , / , % , **(power))\n",
        "2. Comparison/Relational Operators(==,<=,>=,<,>,!=)\n",
        "3. Assignment Operators(=,+=,-=,*=,/=,%=,**=, &=,|=,^=,>>=,<<=)\n",
        "4. Logical Operators(and, or, not)\n",
        "5. Identity Operators(is, is not)\n",
        "6. Membership Operators(in, not in)\n",
        "7. Bitwise Operators(&,|,^,~,<<,>>)\n"
      ],
      "metadata": {
        "id": "3pTEl7Vr7Pd4"
      }
    },
    {
      "cell_type": "markdown",
      "source": [],
      "metadata": {
        "id": "80ZnSV3sCOK_"
      }
    },
    {
      "cell_type": "code",
      "source": [
        "p = 9\n",
        "q = 4\n",
        "print(p+q)\n",
        "print(p-q)\n",
        "print(p*q)\n",
        "print(p/q)\n",
        "print(p%q)\n",
        "print(p**q)"
      ],
      "metadata": {
        "colab": {
          "base_uri": "https://localhost:8080/"
        },
        "id": "rn6SQlOi9v6G",
        "outputId": "fc695110-1df7-4393-a111-e26aa4c666d7"
      },
      "execution_count": null,
      "outputs": [
        {
          "output_type": "stream",
          "name": "stdout",
          "text": [
            "13\n",
            "5\n",
            "36\n",
            "2.25\n",
            "1\n",
            "6561\n"
          ]
        }
      ]
    },
    {
      "cell_type": "code",
      "source": [
        "print(p==q)\n",
        "print(p<=q)\n",
        "print(p>=q)\n",
        "print(p<q)\n",
        "print(p>q)\n",
        "print(p!=q)"
      ],
      "metadata": {
        "colab": {
          "base_uri": "https://localhost:8080/"
        },
        "id": "Sr7Em3joBdS6",
        "outputId": "50e7dfaa-c89d-4558-8d4e-834ea0654745"
      },
      "execution_count": null,
      "outputs": [
        {
          "output_type": "stream",
          "name": "stdout",
          "text": [
            "False\n",
            "False\n",
            "True\n",
            "False\n",
            "True\n",
            "True\n"
          ]
        }
      ]
    },
    {
      "cell_type": "code",
      "source": [
        "p+=q\n",
        "print(p)\n",
        "p-=q\n",
        "print(p)\n",
        "p*=q\n",
        "print(p)\n",
        "p/=q\n",
        "print(p)\n",
        "p%=q\n",
        "print(p)\n",
        "p**=q\n",
        "print(p)\n",
        "#p&=q\n",
        "#print(p)\n",
        "#p|=q\n",
        "#print(p)\n",
        "#p^=q\n",
        "#print(p)\n",
        "#p>>=2\n",
        "#print(p)\n",
        "#p<<=2\n",
        "#print(p)"
      ],
      "metadata": {
        "colab": {
          "base_uri": "https://localhost:8080/"
        },
        "id": "1t7sKLUnB6Vk",
        "outputId": "c3a8a4d8-1705-4cad-a9d7-f6392efc1ae8"
      },
      "execution_count": null,
      "outputs": [
        {
          "output_type": "stream",
          "name": "stdout",
          "text": [
            "13\n",
            "9\n",
            "36\n",
            "9.0\n",
            "1.0\n",
            "1.0\n"
          ]
        }
      ]
    },
    {
      "cell_type": "code",
      "source": [
        "a=5\n",
        "# & -> and\n",
        "if (a<7 and a>3):\n",
        "  print(\"True\")\n",
        "else:\n",
        "  print(\"False\")\n",
        "\n",
        "b = 8\n",
        "# | -> or\n",
        "if (b<7 or b>3):\n",
        "  print(\"True\")\n",
        "else:\n",
        "  print(\"False\")\n",
        "\n",
        "c = 5\n",
        "# ! -> not\n",
        "if (not(c<7 and c>3)):\n",
        "  print(\"True\")\n",
        "else:\n",
        "  print(\"False\")"
      ],
      "metadata": {
        "colab": {
          "base_uri": "https://localhost:8080/"
        },
        "id": "MrqCXmiV3Rwj",
        "outputId": "a2b15a43-4e82-4637-ee7c-2270af01433c"
      },
      "execution_count": null,
      "outputs": [
        {
          "output_type": "stream",
          "name": "stdout",
          "text": [
            "True\n",
            "True\n",
            "False\n"
          ]
        }
      ]
    },
    {
      "cell_type": "code",
      "source": [
        "m = 11; n = 19;\n",
        "print(m&n)\n",
        "print(m|n)\n",
        "print(m^n)\n",
        "print(~m)\n",
        "print(m>>2)\n",
        "print(m<<2)"
      ],
      "metadata": {
        "colab": {
          "base_uri": "https://localhost:8080/"
        },
        "id": "AttWfi8J5Yl9",
        "outputId": "70bb7840-38c1-48c5-ca1d-0736e0182e06"
      },
      "execution_count": null,
      "outputs": [
        {
          "output_type": "stream",
          "name": "stdout",
          "text": [
            "3\n",
            "27\n",
            "24\n",
            "-12\n",
            "2\n",
            "44\n"
          ]
        }
      ]
    },
    {
      "cell_type": "markdown",
      "source": [
        "# List\n",
        "\n",
        "Declaration:\n",
        "variableName = [None]*size\n",
        "/\n",
        "variableNAme = []\n",
        "\n",
        "Initialization:\n",
        "variableName = [int, float, string]\n",
        "\n",
        "# Set\n",
        "\n",
        "Declaration:\n",
        "variableName = {}\n",
        "\n",
        "initialization:\n",
        "variableName = {int,float,string}\n",
        "\n",
        "Order of the elements of a set:\n",
        "Integer > String > Float\n",
        "\n",
        "### Set can be converted to list.\n",
        "Some changes can be occured in a set.\n",
        "\n",
        "\n",
        "A Set/List can contain multiple integer numbers, float numbers or strings in it. Furthermore A List can contain multiple sets or lists inside it.\n",
        "But every elements of a list has an index while the elements of a set doesn't.\n",
        "A list can have higher dimentions.but a set will always be 1D. That means, a list can contain multiple list or set inside of it but a set couldn't."
      ],
      "metadata": {
        "id": "3_Ie025WG0mN"
      }
    },
    {
      "cell_type": "code",
      "source": [
        "#List\n",
        "li1 = [1,2,4,6]\n",
        "print(li1)\n",
        "\n",
        "li1.append(16)\n",
        "print(li1)\n",
        "\n",
        "li1.append(\"Suraim\")\n",
        "print(li1)\n",
        "\n",
        "li1.remove(2)\n",
        "print(li1)\n",
        "\n",
        "print(len(li1))\n",
        "\n",
        "#Set\n",
        "x = {2, 4, 6}\n",
        "print(x)\n",
        "print(len(x))\n",
        "x.add(\"Towanur\")\n",
        "print(x)\n",
        "x.remove(4)\n",
        "print(x)\n",
        "x.clear()\n",
        "print(x)\n",
        "x.add(76)\n",
        "x.add(53)\n",
        "y = {1,2,3,4}\n",
        "x.update(y)\n",
        "print(x)\n",
        "z = list(x)\n",
        "print(z)\n",
        "del(x)\n",
        "#print(x) -> (Error: x is not defined)\n"
      ],
      "metadata": {
        "colab": {
          "base_uri": "https://localhost:8080/"
        },
        "id": "J_Fu3Evq5Yfx",
        "outputId": "00c9dc1f-5ad1-4bd7-dae1-d1a73023c4c4"
      },
      "execution_count": null,
      "outputs": [
        {
          "output_type": "stream",
          "name": "stdout",
          "text": [
            "[1, 2, 4, 6]\n",
            "[1, 2, 4, 6, 16]\n",
            "[1, 2, 4, 6, 16, 'Suraim']\n",
            "[1, 4, 6, 16, 'Suraim']\n",
            "5\n",
            "{2, 4, 6}\n",
            "3\n",
            "{2, 4, 'Towanur', 6}\n",
            "{2, 'Towanur', 6}\n",
            "set()\n",
            "{1, 2, 3, 4, 53, 76}\n",
            "[1, 2, 3, 4, 53, 76]\n"
          ]
        }
      ]
    },
    {
      "cell_type": "markdown",
      "source": [
        "#Indexing\n",
        "\n",
        "1. Left to Right: 0,1,2,3...\n",
        "2. Right to Left: -1,-2,-3..."
      ],
      "metadata": {
        "id": "03FSNJ9eJETm"
      }
    },
    {
      "cell_type": "code",
      "source": [
        "li1[0] = 9\n",
        "li1[-2] = \"Towanur\"\n",
        "print(li1)\n",
        "li1[-1],li1[-2] = li1[-2],li1[-1]\n",
        "print(li1)\n",
        "#del(li1)\n",
        "#print(li1) (Error: li1 is not defined)\n",
        "li1.clear()\n",
        "print(li1) #(All the elements will be deleted.Empty list will remain)"
      ],
      "metadata": {
        "colab": {
          "base_uri": "https://localhost:8080/"
        },
        "id": "2F-xMzm6Jdrf",
        "outputId": "0599cab9-1c71-455a-b69f-644cabe9aa3b"
      },
      "execution_count": null,
      "outputs": [
        {
          "output_type": "stream",
          "name": "stdout",
          "text": [
            "[9, 4, 6, 'Towanur', 'Suraim']\n",
            "[9, 4, 6, 'Suraim', 'Towanur']\n",
            "[]\n"
          ]
        }
      ]
    },
    {
      "cell_type": "code",
      "source": [
        "li2 = [1,23,4.5,\"ST\"]\n",
        "print(li2)\n",
        "li1.append(37)\n",
        "sum = li1 + li2\n",
        "print(sum)\n",
        "li3 = []\n",
        "li3.append({1,2,4,6.5,9,\"ME\"})\n",
        "print(li3)\n",
        "li3.append(li2)\n",
        "print(li3)\n",
        "li3.append(49)\n",
        "print(li3)\n",
        "s = {0,5.5,8,\"Hi\"}\n",
        "print(s)"
      ],
      "metadata": {
        "colab": {
          "base_uri": "https://localhost:8080/"
        },
        "id": "2d3_xFBNKi_4",
        "outputId": "597253f7-769b-4fe0-c44a-d189505a0e4d"
      },
      "execution_count": null,
      "outputs": [
        {
          "output_type": "stream",
          "name": "stdout",
          "text": [
            "[1, 23, 4.5, 'ST']\n",
            "[37, 1, 23, 4.5, 'ST']\n",
            "[{1, 2, 'ME', 4, 6.5, 9}]\n",
            "[{1, 2, 'ME', 4, 6.5, 9}, [1, 23, 4.5, 'ST']]\n",
            "[{1, 2, 'ME', 4, 6.5, 9}, [1, 23, 4.5, 'ST'], 49]\n",
            "{0, 8, 'Hi', 5.5}\n"
          ]
        }
      ]
    },
    {
      "cell_type": "markdown",
      "source": [
        "#Tuple\n",
        "one type of data structure\n",
        "\n",
        "Declaration:\n",
        "variableName = ()\n",
        "\n",
        "Initialization:\n",
        "variableName = (int, float, string)\n",
        "\n",
        "### Tuple can be converted to list.\n",
        "No changes can be occured in a tuple. That is why, a tuple is usually converted to a list.\n",
        "\n",
        "\n",
        "#Dictionary\n",
        "\n",
        "Declaration and initialization:\n",
        "variableName = {keyword1:value1, keyword2:value2 ...}\n",
        "\n",
        "every value can be access by its keyword in a dictionary. and it is changeable.\n",
        "\n",
        "### Dictionary can be converted to list.\n"
      ],
      "metadata": {
        "id": "bMVuDtcCWFqh"
      }
    },
    {
      "cell_type": "code",
      "source": [
        "#Tuple\n",
        "tup1 = (0,4,3,0.5,\"HI\")\n",
        "print(tup1)\n",
        "\n",
        "#convertion\n",
        "y = list(tup1)\n",
        "print(y)\n",
        "y[1] = 9\n",
        "print(y)\n",
        "tup1 = tuple(y)\n",
        "print(tup1)\n",
        "\n",
        "tup2 = list(tup1)\n",
        "tup2.remove(\"HI\")\n",
        "print(tuple(tup2))\n",
        "print(tuple(tup2[1:3])) #(print indexing:[startingIndex : endingIndex+1])\n",
        "\n",
        "#Dictionary\n",
        "dict1 = {\"Shopping Mall\" : \"Top Ten\", \"Catagory\" : \"A\", \"Cost\" : \"Expensive\"}\n",
        "print(dict1)\n",
        "print(dict1['Shopping Mall'])\n",
        "dict1[\"Review\"] = \"Good\"\n",
        "print(dict1)\n",
        "dict1[\"Cost\"] = \"Very Expensive\"\n",
        "print(dict1)\n",
        "#print(dict1[\"Popularity\"]) #*Error: KeyError\n",
        "del(dict1[\"Review\"])\n",
        "print(dict1)\n",
        "print(dict1.keys())\n",
        "print(dict1.values())\n",
        "print(dict1.items())\n",
        "dict1.pop(\"Catagory\")\n",
        "print(dict1)\n",
        "dict1.popitem() #Removes one item from Right Hand Side\n",
        "print(dict1)\n",
        "dict1.popitem()\n",
        "print(dict1)\n",
        "dict1[\"University\"] = \"CUET\"\n",
        "dict1[\"Department\"] = \"MIE\"\n",
        "dict1[\"Lab Facilities\"] = \"Very Good\"\n",
        "print(dict1)\n",
        "dict1.update({\"Lab Facilities\" : \"Good\"})\n",
        "print(dict1)\n",
        "dict2 = dict1.copy()\n",
        "print(list(dict2.keys()))\n",
        "print(list(dict2.values()))\n",
        "print(list(dict2.items()))\n",
        "dict1.clear()\n",
        "print(dict1)\n",
        "del(dict1)\n",
        "#print(dict1) #(Error: dict1 is not defined\n",
        "#"
      ],
      "metadata": {
        "colab": {
          "base_uri": "https://localhost:8080/"
        },
        "id": "CaJEH0e5WFPz",
        "outputId": "9a606956-1c43-4054-b45a-3d6b7e7427b1"
      },
      "execution_count": null,
      "outputs": [
        {
          "output_type": "stream",
          "name": "stdout",
          "text": [
            "(0, 4, 3, 0.5, 'HI')\n",
            "[0, 4, 3, 0.5, 'HI']\n",
            "[0, 9, 3, 0.5, 'HI']\n",
            "(0, 9, 3, 0.5, 'HI')\n",
            "(0, 9, 3, 0.5)\n",
            "(9, 3)\n",
            "{'Shopping Mall': 'Top Ten', 'Catagory': 'A', 'Cost': 'Expensive'}\n",
            "Top Ten\n",
            "{'Shopping Mall': 'Top Ten', 'Catagory': 'A', 'Cost': 'Expensive', 'Review': 'Good'}\n",
            "{'Shopping Mall': 'Top Ten', 'Catagory': 'A', 'Cost': 'Very Expensive', 'Review': 'Good'}\n",
            "{'Shopping Mall': 'Top Ten', 'Catagory': 'A', 'Cost': 'Very Expensive'}\n",
            "dict_keys(['Shopping Mall', 'Catagory', 'Cost'])\n",
            "dict_values(['Top Ten', 'A', 'Very Expensive'])\n",
            "dict_items([('Shopping Mall', 'Top Ten'), ('Catagory', 'A'), ('Cost', 'Very Expensive')])\n",
            "{'Shopping Mall': 'Top Ten', 'Cost': 'Very Expensive'}\n",
            "{'Shopping Mall': 'Top Ten'}\n",
            "{}\n",
            "{'University': 'CUET', 'Department': 'MIE', 'Lab Facilities': 'Very Good'}\n",
            "{'University': 'CUET', 'Department': 'MIE', 'Lab Facilities': 'Good'}\n",
            "['University', 'Department', 'Lab Facilities']\n",
            "['CUET', 'MIE', 'Good']\n",
            "[('University', 'CUET'), ('Department', 'MIE'), ('Lab Facilities', 'Good')]\n",
            "{}\n"
          ]
        }
      ]
    },
    {
      "cell_type": "markdown",
      "source": [
        "#Conditionals\n",
        "##if-else\n",
        "\n",
        "if(condition):\n",
        "\n",
        "  print(statement)\n",
        "\n",
        "else:\n",
        "\n",
        "  print(statement)\n",
        "\n",
        "\n",
        "\n"
      ],
      "metadata": {
        "id": "HIMVBXmPKbq5"
      }
    },
    {
      "cell_type": "code",
      "source": [
        "r = float(input(\"Input a number: \"))\n",
        "s = float(input(\"Input another number: \"))\n",
        "\n",
        "if(r>s):\n",
        "  print(str(r) + \" is greater than \" + str(s))\n",
        "elif(r<s):\n",
        "  print(str(s) + \" is greater than \" + str(r))"
      ],
      "metadata": {
        "colab": {
          "base_uri": "https://localhost:8080/"
        },
        "id": "jQ6XrT0AKZgV",
        "outputId": "fec5c97b-64ca-4b14-ed9b-800032c40432"
      },
      "execution_count": null,
      "outputs": [
        {
          "output_type": "stream",
          "name": "stdout",
          "text": [
            "Input a number: 67.8\n",
            "Input another number: 29.42\n",
            "67.8 is greater than 29.42\n"
          ]
        }
      ]
    },
    {
      "cell_type": "code",
      "source": [
        "print(\"IQ Test\\n\")\n",
        "i = int(input(\"Please give me the result of IQ Test:\\n\"))\n",
        "\n",
        "if(i<50):\n",
        "  print(\"Student is Avarage\")\n",
        "elif(i>=50 and i<70):\n",
        "  print(\"Student is Good\")\n",
        "else:\n",
        "  print(\"Student is Excellent\")"
      ],
      "metadata": {
        "colab": {
          "base_uri": "https://localhost:8080/"
        },
        "id": "pQrJ9fb8MecK",
        "outputId": "886cdecb-0f38-43f5-db8e-4a488c7a4f46"
      },
      "execution_count": null,
      "outputs": [
        {
          "output_type": "stream",
          "name": "stdout",
          "text": [
            "IQ Test\n",
            "\n",
            "Please give me the result of IQ Test:\n",
            "45\n",
            "Student is Avarage\n"
          ]
        }
      ]
    },
    {
      "cell_type": "code",
      "source": [
        "print(\"Triangle or not?\\n\")\n",
        "a1 = int(input(\"Give the value of first side: \"))\n",
        "a2 = int(input(\"Give the value of second side: \"))\n",
        "a3 = int(input(\"Give the value of third side: \"))\n",
        "\n",
        "if(a1+a2>a3 and a1+a3>a2 and a2+a3>a1):\n",
        "  print(\"\\nIt is a Triangle.\")\n",
        "  if(a1==a2 and a1==a3):\n",
        "    print(\"Moreover it is an Equilateral Triangle\")\n",
        "  elif(a1==a2 or a1==a3 or a2==a3):\n",
        "    print(\"Moreover it is an Isosceles Triangle\")\n",
        "\n",
        "    if((a1**2 == a2**2 + a3**2) or (a2**2 == a1**2 + a3**2) or (a3**2 == a1**2 + a2**2)):\n",
        "      print(\"Furthermore it is a Right angle Triangle\")\n",
        "  elif(a1!=a2 and a1!=a3 and a2!=a3):\n",
        "    print(\"Moreover it is a Scalene Triangle\")\n",
        "    if((a1**2 == a2**2 + a3**2) or (a2**2 == a1**2 + a3**2) or (a3**2 == a1**2 + a2**2)):\n",
        "      print(\"Furthermore it is a Right angle Triangle\")\n",
        "\n",
        "else:\n",
        "  print(\"\\nIt is not a Triangle\")"
      ],
      "metadata": {
        "colab": {
          "base_uri": "https://localhost:8080/"
        },
        "id": "RleTbRl6PouA",
        "outputId": "256e07e0-a89f-472f-d237-b76294ece582"
      },
      "execution_count": null,
      "outputs": [
        {
          "output_type": "stream",
          "name": "stdout",
          "text": [
            "Triangle or not\n",
            "\n",
            "Give the value of first side: 10\n",
            "Give the value of second side: 6\n",
            "Give the value of third side: 8\n",
            "\n",
            "It is a Triangle.\n",
            "Moreover it is a Scalene Triangle\n",
            "Furthermore it is a Right angle Triangle\n"
          ]
        }
      ]
    },
    {
      "cell_type": "code",
      "source": [
        "print(\"VOWEL OR CONSONENT?\\n\")\n",
        "l = input(\"Enter any letter: \")\n",
        "if(l=='a' or l=='e' or l=='i' or l=='o' or l=='u' or l == 'A' or l=='E' or l == 'I' or l == 'O' or l == 'U'):\n",
        "  print(l + \" is a Vowel.\\n\")\n",
        "else:\n",
        "  print(l + \" is a Consonant.\\n\")"
      ],
      "metadata": {
        "colab": {
          "base_uri": "https://localhost:8080/"
        },
        "id": "3OyI5eZqRJRl",
        "outputId": "12e08235-ec7b-477b-b2fe-b703fb6f024a"
      },
      "execution_count": null,
      "outputs": [
        {
          "output_type": "stream",
          "name": "stdout",
          "text": [
            "VOWEL OR CONSONENT?\n",
            "\n",
            "Enter any letter: E\n",
            "E is a Vowel.\n",
            "\n"
          ]
        }
      ]
    },
    {
      "cell_type": "markdown",
      "source": [
        "#Loop\n",
        "\n",
        "##for loop:\n",
        "1. for i in list:\n",
        "\n",
        " print(i)\n",
        "2. for i in  range(start,upto end,upgradation):\n",
        "\n",
        " print(statement)\n",
        "\n",
        "##while loop:\n",
        "i=0\n",
        "\n",
        "while(i<n):\n",
        "\n",
        "print(list[i])\n",
        "\n",
        "i+=1 (loop will have n iteration)"
      ],
      "metadata": {
        "id": "zUis49AXf3XV"
      }
    },
    {
      "cell_type": "code",
      "source": [
        "list1 = [1,4,6,'H',\"Hello\", 7.98]\n",
        "\n",
        "for i in range(len(list1)):\n",
        "  print(list1[i])\n",
        "print(\"\")\n",
        "for i in list1:\n",
        "  print(i)\n",
        "print(\"\")\n",
        "for i in range(5):\n",
        "  print(i+1)\n",
        "print(\"\")\n",
        "i = 0\n",
        "while(i<len(list1)):\n",
        "  print(list1[i])\n",
        "  i+=1"
      ],
      "metadata": {
        "colab": {
          "base_uri": "https://localhost:8080/"
        },
        "id": "ELeKjk7Zfx1N",
        "outputId": "70739607-8158-4b1b-bb83-78d89e698ccc"
      },
      "execution_count": null,
      "outputs": [
        {
          "output_type": "stream",
          "name": "stdout",
          "text": [
            "1\n",
            "4\n",
            "6\n",
            "H\n",
            "Hello\n",
            "7.98\n",
            "\n",
            "1\n",
            "4\n",
            "6\n",
            "H\n",
            "Hello\n",
            "7.98\n",
            "\n",
            "1\n",
            "2\n",
            "3\n",
            "4\n",
            "5\n",
            "\n",
            "1\n",
            "4\n",
            "6\n",
            "H\n",
            "Hello\n",
            "7.98\n"
          ]
        }
      ]
    },
    {
      "cell_type": "code",
      "source": [
        "for i in range(5,15,2):\n",
        "  print(i)"
      ],
      "metadata": {
        "colab": {
          "base_uri": "https://localhost:8080/"
        },
        "id": "CWbhe6BVkFZt",
        "outputId": "b7ec6768-18e9-4d99-b8d9-563c96324748"
      },
      "execution_count": null,
      "outputs": [
        {
          "output_type": "stream",
          "name": "stdout",
          "text": [
            "5\n",
            "7\n",
            "9\n",
            "11\n",
            "13\n"
          ]
        }
      ]
    },
    {
      "cell_type": "code",
      "source": [
        "#Print 1st 10 even number\n",
        "e = 2\n",
        "for i in range(10):\n",
        " print(e)\n",
        " e+=2\n",
        "\n",
        "for i in range(2,21,2):\n",
        "  print(i)"
      ],
      "metadata": {
        "colab": {
          "base_uri": "https://localhost:8080/"
        },
        "id": "pdnbpSOIoibJ",
        "outputId": "1122fd05-29e0-4697-ee37-67dfc46722d8"
      },
      "execution_count": null,
      "outputs": [
        {
          "output_type": "stream",
          "name": "stdout",
          "text": [
            "2\n",
            "4\n",
            "6\n",
            "8\n",
            "10\n",
            "12\n",
            "14\n",
            "16\n",
            "18\n",
            "20\n",
            "2\n",
            "4\n",
            "6\n",
            "8\n",
            "10\n",
            "12\n",
            "14\n",
            "16\n",
            "18\n",
            "20\n"
          ]
        }
      ]
    },
    {
      "cell_type": "markdown",
      "source": [
        "list(): declares an empty list"
      ],
      "metadata": {
        "id": "QX2b3vqdqfqQ"
      }
    },
    {
      "cell_type": "code",
      "source": [
        "list2 = list()\n",
        "\n",
        "for i in range(1,6):\n",
        "  list2.append(i)\n",
        "  print(list2)\n",
        "print(\"\")\n",
        "print(list2)"
      ],
      "metadata": {
        "colab": {
          "base_uri": "https://localhost:8080/"
        },
        "id": "7LwShFlEpi8M",
        "outputId": "cddf5274-a2b4-46f6-805c-0c67f7996ddd"
      },
      "execution_count": null,
      "outputs": [
        {
          "output_type": "stream",
          "name": "stdout",
          "text": [
            "[1]\n",
            "[1, 2]\n",
            "[1, 2, 3]\n",
            "[1, 2, 3, 4]\n",
            "[1, 2, 3, 4, 5]\n",
            "\n",
            "[1, 2, 3, 4, 5]\n"
          ]
        }
      ]
    },
    {
      "cell_type": "code",
      "source": [
        "course = int(input(\"Give the number of your theoretical course: \"))\n",
        "marks = list()\n",
        "\n",
        "for i in range(course):\n",
        "  marks.append(int(input(\"Give the marks of your course: \")))\n",
        "  print(marks)\n",
        "\n",
        "print(\"\")\n",
        "print(\"The maximum number you have got is \" + str(max(marks)))\n",
        "print(\"The minimum number you have got is \" + str(min(marks)))"
      ],
      "metadata": {
        "colab": {
          "base_uri": "https://localhost:8080/"
        },
        "id": "XDC414k4rcbQ",
        "outputId": "5f4f4b24-0498-45f0-bd97-24ba8a1dca1a"
      },
      "execution_count": null,
      "outputs": [
        {
          "output_type": "stream",
          "name": "stdout",
          "text": [
            "Give the number of your theoretical course: 4\n",
            "Give the marks of your course: 23\n",
            "[23]\n",
            "Give the marks of your course: 83\n",
            "[23, 83]\n",
            "Give the marks of your course: 46\n",
            "[23, 83, 46]\n",
            "Give the marks of your course: 70\n",
            "[23, 83, 46, 70]\n",
            "\n",
            "The maximum number you have got is 83\n",
            "The minimum number you have got is 23\n"
          ]
        }
      ]
    },
    {
      "cell_type": "markdown",
      "source": [
        "#Function\n",
        "Declaration:\n",
        "\n",
        "def functionName(parameter):\n",
        "  print(statement)"
      ],
      "metadata": {
        "id": "8Z9fotOHcT59"
      }
    },
    {
      "cell_type": "code",
      "source": [
        "a = 7\n",
        "b = 8\n",
        "\n",
        "def my_1st ():\n",
        "  global a\n",
        "  global b\n",
        "  a+=2\n",
        "  b-=1\n",
        "  print(a+b)\n",
        "\n",
        "my_1st()\n",
        "print(\"HI\")\n",
        "my_1st()"
      ],
      "metadata": {
        "colab": {
          "base_uri": "https://localhost:8080/"
        },
        "id": "re-BqPdGcSxe",
        "outputId": "b0b3b48c-8873-4dab-f0b7-65bf5f9db701"
      },
      "execution_count": null,
      "outputs": [
        {
          "output_type": "stream",
          "name": "stdout",
          "text": [
            "16\n",
            "HI\n",
            "17\n"
          ]
        }
      ]
    },
    {
      "cell_type": "code",
      "source": [
        "def my_func (l):\n",
        "  for i in l:\n",
        "    print(i)\n",
        "\n",
        "list1 = [2,8,9,4]\n",
        "list2 = [9,6,5,9]\n",
        "list3 = [1,3,6,7,0]\n",
        "\n",
        "my_func(list3)\n",
        "print(\"A function can be called multiple times\")\n",
        "my_func(list1)"
      ],
      "metadata": {
        "colab": {
          "base_uri": "https://localhost:8080/"
        },
        "id": "zmZclbc6feg0",
        "outputId": "80239e4d-a3a4-41c6-e1da-8c940eb3781d"
      },
      "execution_count": null,
      "outputs": [
        {
          "output_type": "stream",
          "name": "stdout",
          "text": [
            "1\n",
            "3\n",
            "6\n",
            "7\n",
            "0\n",
            "A function can be called multiple times\n",
            "2\n",
            "8\n",
            "9\n",
            "4\n"
          ]
        }
      ]
    },
    {
      "cell_type": "code",
      "source": [
        "#Calculate the area of a Triangle\n",
        "\n",
        "def area(a,b):\n",
        "  a = float(input(\"Give me the value of the base: \"))\n",
        "  b = float(input(\"Give me the value of the height: \"))\n",
        "  print(\"\\nThe area of the triangle is \" + str(0.5*a*b))\n",
        "\n",
        "area(a,b)\n"
      ],
      "metadata": {
        "colab": {
          "base_uri": "https://localhost:8080/"
        },
        "id": "HJvQpOBngc4D",
        "outputId": "f3c46125-12b3-4e7a-bf89-bbb2146b883d"
      },
      "execution_count": null,
      "outputs": [
        {
          "output_type": "stream",
          "name": "stdout",
          "text": [
            "Give me the value of the base: 3\n",
            "Give me the value of the height: 4\n",
            "\n",
            "The area of the triangle is 6.0\n"
          ]
        }
      ]
    },
    {
      "cell_type": "markdown",
      "source": [
        "###Python is a object oriented programming language\n",
        "#Class:  a class is a blueprint for creating objects\n",
        "\n",
        "Declaration:\n",
        "  class className:\n",
        "   attribute:\n",
        "   method:"
      ],
      "metadata": {
        "id": "BmYsp4lahhOI"
      }
    },
    {
      "cell_type": "code",
      "source": [
        "print(type(9.7))\n",
        "\n",
        "class member:\n",
        "  name = 'a'\n",
        "  age = 30\n",
        "\n",
        "Suraim = member()\n",
        "print(isinstance(Suraim, member))\n",
        "Suraim.age = 22\n",
        "Suraim.name = 'Suraim'\n",
        "print(Suraim.name)\n",
        "print(Suraim.age)\n",
        "\n",
        "\n",
        "Towanur = member()\n",
        "Towanur.age = 21\n",
        "Towanur.name = 'Towanur'\n",
        "print(Towanur.name)\n",
        "print(Towanur.age)\n"
      ],
      "metadata": {
        "colab": {
          "base_uri": "https://localhost:8080/"
        },
        "id": "SaGlPD4GhwsK",
        "outputId": "40c5a55d-21d1-453c-8c64-840385cbde5b"
      },
      "execution_count": null,
      "outputs": [
        {
          "output_type": "stream",
          "name": "stdout",
          "text": [
            "<class 'float'>\n",
            "True\n",
            "Suraim\n",
            "22\n",
            "Towanur\n",
            "21\n"
          ]
        }
      ]
    },
    {
      "cell_type": "code",
      "source": [
        "a = [1,3,5]\n",
        "import numpy as np\n",
        "A = np.array(a)\n",
        "print(A)\n",
        "\n",
        "B = A*2\n",
        "print(B)\n",
        "\n",
        "C1 = np.array([0,19,5,52]) # 1D Array(list)\n",
        "print(C1)\n",
        "C2 = np.array([[2,5,9,3],[2,1,-1,0]]) #2D Array(Arrangement of lists)\n",
        "print(C2)\n",
        "C3 = np.array([[[2,3,4,5],[1,-1,0,3]],[[3,5,7,9],[2,4,6,8]]]) #3D Array(combination of 2D Arrays)\n",
        "print(C3)"
      ],
      "metadata": {
        "colab": {
          "base_uri": "https://localhost:8080/"
        },
        "id": "m8n3zfiol2E9",
        "outputId": "2781eadf-d255-4117-c030-29e9ffe9f26b"
      },
      "execution_count": null,
      "outputs": [
        {
          "output_type": "stream",
          "name": "stdout",
          "text": [
            "[1 3 5]\n",
            "[ 2  6 10]\n",
            "[ 0 19  5 52]\n",
            "[[ 2  5  9  3]\n",
            " [ 2  1 -1  0]]\n",
            "[[[ 2  3  4  5]\n",
            "  [ 1 -1  0  3]]\n",
            "\n",
            " [[ 3  5  7  9]\n",
            "  [ 2  4  6  8]]]\n"
          ]
        }
      ]
    },
    {
      "cell_type": "code",
      "source": [
        "print(C1.ndim, C2.ndim, C3.ndim)\n",
        "print(C1.shape, C2.shape, C3.shape)\n",
        "print(C1.size, C2.size, C3.size)\n",
        "print(C1.dtype, C2.dtype, C3.dtype)\n",
        "\n",
        "print(C1.itemsize, C2.itemsize, C3.itemsize)\n",
        "print(C1.nbytes, C2.nbytes, C3.nbytes)\n",
        "\n",
        "print(C1[3])\n",
        "print(C2[1,1])\n",
        "print(C3[1,1,3])"
      ],
      "metadata": {
        "colab": {
          "base_uri": "https://localhost:8080/"
        },
        "id": "WE2aPS-mtMip",
        "outputId": "6bb3e91b-f64b-402d-9afb-4fd3af7b29cf"
      },
      "execution_count": null,
      "outputs": [
        {
          "output_type": "stream",
          "name": "stdout",
          "text": [
            "1 2 3\n",
            "(4,) (2, 4) (2, 2, 4)\n",
            "4 8 16\n",
            "int64 int64 int64\n",
            "8 8 8\n",
            "32 64 128\n",
            "52\n",
            "1\n",
            "8\n"
          ]
        }
      ]
    },
    {
      "cell_type": "code",
      "source": [
        "import matplotlib.pyplot as plt\n",
        "import numpy as np\n",
        "\n",
        "x = np.linspace(1,100,1000)\n",
        "y = x**2\n",
        "\n",
        "plt.plot(x,y)\n",
        "plt.show()"
      ],
      "metadata": {
        "colab": {
          "base_uri": "https://localhost:8080/",
          "height": 430
        },
        "id": "Lc6acMnVun2j",
        "outputId": "85807768-57a4-4ae6-9c2a-2ec59c5f6ce2"
      },
      "execution_count": 91,
      "outputs": [
        {
          "output_type": "display_data",
          "data": {
            "text/plain": [
              "<Figure size 640x480 with 1 Axes>"
            ],
            "image/png": "[encoded data removed]"
          },
          "metadata": {}
        }
      ]
    },
    {
      "cell_type": "code",
      "source": [
        "z = np.linspace(1,10,100)\n",
        "plt.plot(z, np.sin(z))"
      ],
      "metadata": {
        "colab": {
          "base_uri": "https://localhost:8080/",
          "height": 448
        },
        "id": "4yFaj5KBx2hG",
        "outputId": "cd5a3b1a-7ce6-48b1-dcf2-88151074db77"
      },
      "execution_count": 90,
      "outputs": [
        {
          "output_type": "execute_result",
          "data": {
            "text/plain": [
              "[<matplotlib.lines.Line2D at 0x7a705172db90>]"
            ]
          },
          "metadata": {},
          "execution_count": 90
        },
        {
          "output_type": "display_data",
          "data": {
            "text/plain": [
              "<Figure size 640x480 with 1 Axes>"
            ],
            "image/png": "[encoded data removed]"
          },
          "metadata": {}
        }
      ]
    },
    {
      "cell_type": "code",
      "source": [
        "import matplotlib.pyplot as plt\n",
        "import numpy as np\n",
        "\n",
        "x = np.array([3,50,90,37])\n",
        "plt.pie(x)\n"
      ],
      "metadata": {
        "colab": {
          "base_uri": "https://localhost:8080/",
          "height": 552
        },
        "id": "OSiuAYFi0IPs",
        "outputId": "0913d165-3c50-4485-b69a-9c39e7621c9c"
      },
      "execution_count": 92,
      "outputs": [
        {
          "output_type": "execute_result",
          "data": {
            "text/plain": [
              "([<matplotlib.patches.Wedge at 0x7a705119ecd0>,\n",
              "  <matplotlib.patches.Wedge at 0x7a7051621e50>,\n",
              "  <matplotlib.patches.Wedge at 0x7a7051621c90>,\n",
              "  <matplotlib.patches.Wedge at 0x7a705120e710>],\n",
              " [Text(1.0984924879316866, 0.05756955755999608, ''),\n",
              "  Text(0.6151120784214239, 0.9119414076463884, ''),\n",
              "  Text(-1.0573878125730451, -0.30320127608898867, ''),\n",
              "  Text(0.8784990728341153, -0.6619965098318871, '')])"
            ]
          },
          "metadata": {},
          "execution_count": 92
        },
        {
          "output_type": "display_data",
          "data": {
            "text/plain": [
              "<Figure size 640x480 with 1 Axes>"
            ],
            "image/png": "[encoded data removed]"
          },
          "metadata": {}
        }
      ]
    }
  ]
}