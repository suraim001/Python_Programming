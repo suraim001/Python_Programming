{
  "nbformat": 4,
  "nbformat_minor": 0,
  "metadata": {
    "colab": {
      "provenance": [],
      "mount_file_id": "1GvJ8W139OZlt04M0KD0jv-pEpTHteiSo",
      "authorship_tag": "ABX9TyNEVM/HY9OrernuwjDjvsHC",
      "include_colab_link": true
    },
    "kernelspec": {
      "name": "python3",
      "display_name": "Python 3"
    },
    "language_info": {
      "name": "python"
    }
  },
  "cells": [
    {
      "cell_type": "markdown",
      "metadata": {
        "id": "view-in-github",
        "colab_type": "text"
      },
      "source": [
        "<a href=\"https://colab.research.google.com/github/suraim001/Python_Programming/blob/main/python.ipynb\" target=\"_parent\"><img src=\"https://colab.research.google.com/assets/colab-badge.svg\" alt=\"Open In Colab\"/></a>"
      ]
    },
    {
      "cell_type": "markdown",
      "source": [
        "print: Hello World"
      ],
      "metadata": {
        "id": "eJ6_REmj3rDq"
      }
    },
    {
      "cell_type": "code",
      "execution_count": null,
      "metadata": {
        "colab": {
          "base_uri": "https://localhost:8080/"
        },
        "id": "6rO_HDyzzyTl",
        "outputId": "de72e768-3a28-45ff-8038-8e6ce9feaf42"
      },
      "outputs": [
        {
          "output_type": "stream",
          "name": "stdout",
          "text": [
            "Hello World\n",
            "Hello World\n"
          ]
        },
        {
          "output_type": "execute_result",
          "data": {
            "text/plain": [
              "22"
            ]
          },
          "metadata": {},
          "execution_count": 133
        }
      ],
      "source": [
        "print(\"Hello World\")\n",
        "wish = \"Hello World\"\n",
        "print(wish)\n",
        "age = 22\n",
        "age"
      ]
    },
    {
      "cell_type": "markdown",
      "source": [
        "#Data type\n",
        "1. string\n",
        "2. int\n",
        "3. bool\n",
        "4. float"
      ],
      "metadata": {
        "id": "IIUTgPRY3yza"
      }
    },
    {
      "cell_type": "code",
      "source": [
        "print(5)"
      ],
      "metadata": {
        "colab": {
          "base_uri": "https://localhost:8080/"
        },
        "id": "fBJudyRi29X3",
        "outputId": "99160a66-7203-40d7-9607-fed1290ca41d"
      },
      "execution_count": null,
      "outputs": [
        {
          "output_type": "stream",
          "name": "stdout",
          "text": [
            "5\n"
          ]
        }
      ]
    },
    {
      "cell_type": "code",
      "source": [
        "print(type(5))"
      ],
      "metadata": {
        "colab": {
          "base_uri": "https://localhost:8080/"
        },
        "id": "G2FgBdH83CBa",
        "outputId": "1a333baa-826f-4605-f623-a87f7811ca5b"
      },
      "execution_count": null,
      "outputs": [
        {
          "output_type": "stream",
          "name": "stdout",
          "text": [
            "<class 'int'>\n"
          ]
        }
      ]
    },
    {
      "cell_type": "code",
      "source": [
        "print(type(\"Hello World\"))"
      ],
      "metadata": {
        "colab": {
          "base_uri": "https://localhost:8080/"
        },
        "id": "eA1b7mkx3JTx",
        "outputId": "4ea88ca9-312f-43d7-9ddf-0ba3f806f760"
      },
      "execution_count": null,
      "outputs": [
        {
          "output_type": "stream",
          "name": "stdout",
          "text": [
            "<class 'str'>\n"
          ]
        }
      ]
    },
    {
      "cell_type": "code",
      "source": [
        "print(type(True))"
      ],
      "metadata": {
        "colab": {
          "base_uri": "https://localhost:8080/"
        },
        "id": "WhwD7TDN3Neg",
        "outputId": "6c6a1e16-9f3f-44c7-e27a-19dc2ae267e6"
      },
      "execution_count": null,
      "outputs": [
        {
          "output_type": "stream",
          "name": "stdout",
          "text": [
            "<class 'bool'>\n"
          ]
        }
      ]
    },
    {
      "cell_type": "code",
      "source": [
        "print(type(10.5))"
      ],
      "metadata": {
        "colab": {
          "base_uri": "https://localhost:8080/"
        },
        "id": "wLopcRlU3Qyu",
        "outputId": "04147a9e-067c-4104-873e-f32a0d01b2ea"
      },
      "execution_count": null,
      "outputs": [
        {
          "output_type": "stream",
          "name": "stdout",
          "text": [
            "<class 'float'>\n"
          ]
        }
      ]
    },
    {
      "cell_type": "code",
      "source": [
        "name = \"Maisha\"\n",
        "print(name + \" got GPA 5. Congratulations to \" + name)"
      ],
      "metadata": {
        "colab": {
          "base_uri": "https://localhost:8080/"
        },
        "id": "tV1VtnTo3d7P",
        "outputId": "ad31ad1b-e4a4-4197-bbd7-0a55a4032e17"
      },
      "execution_count": null,
      "outputs": [
        {
          "output_type": "stream",
          "name": "stdout",
          "text": [
            "Maisha got GPA 5. Congratulations to Maisha\n"
          ]
        }
      ]
    },
    {
      "cell_type": "code",
      "source": [
        "Name = input (\"Please give your name: \")\n",
        "print(Name + \" got GPA 5. Cogratulations to \" + Name)"
      ],
      "metadata": {
        "colab": {
          "base_uri": "https://localhost:8080/"
        },
        "id": "OzaDZ68w5kcr",
        "outputId": "e76adb9c-9811-448c-d017-90850f7ecdbc"
      },
      "execution_count": null,
      "outputs": [
        {
          "output_type": "stream",
          "name": "stdout",
          "text": [
            "Please give your name: suraim\n",
            "suraim got GPA 5. Cogratulations to suraim\n"
          ]
        }
      ]
    },
    {
      "cell_type": "code",
      "source": [
        "a = float(input(\"Enter a number: \"))\n",
        "b = float(input(\"Enter another number: \"))\n",
        "result = int(a+b)\n",
        "print((result))"
      ],
      "metadata": {
        "colab": {
          "base_uri": "https://localhost:8080/"
        },
        "id": "pRKASDIS6cXM",
        "outputId": "6c9a07b1-a134-41c0-fa6d-e6949c02fe31"
      },
      "execution_count": null,
      "outputs": [
        {
          "output_type": "stream",
          "name": "stdout",
          "text": [
            "Enter a number: 2\n",
            "Enter another number: 4\n",
            "6\n"
          ]
        }
      ]
    },
    {
      "cell_type": "code",
      "source": [
        "print(5>7)\n",
        "print(bool(\"haha\"))\n",
        "print(bool(\"\"))\n",
        "print(bool(1))\n",
        "print(bool(0))\n",
        "print(bool(None))\n",
        "print(bool(True))\n",
        "print(bool(False))\n",
        "print(bool([]))\n",
        "print(bool({}))\n",
        "print(bool(()))\n",
        "print(bool(-1))\n",
        "print(bool(5))"
      ],
      "metadata": {
        "colab": {
          "base_uri": "https://localhost:8080/"
        },
        "id": "d1iHLeDX26lR",
        "outputId": "1bdebf94-30ba-4e4d-8289-16812bae89d7"
      },
      "execution_count": null,
      "outputs": [
        {
          "output_type": "stream",
          "name": "stdout",
          "text": [
            "False\n",
            "True\n",
            "False\n",
            "True\n",
            "False\n",
            "False\n",
            "True\n",
            "False\n",
            "False\n",
            "False\n",
            "False\n",
            "True\n",
            "True\n"
          ]
        }
      ]
    },
    {
      "cell_type": "markdown",
      "source": [
        "#operators\n",
        "\n",
        "1. Arithmetic Operators(+ , - , * , / , % , **(power))\n",
        "2. Comparison/Relational Operators(==,<=,>=,<,>,!=)\n",
        "3. Assignment Operators(=,+=,-=,*=,/=,%=,**=, &=,|=,^=,>>=,<<=)\n",
        "4. Logical Operators(and, or, not)\n",
        "5. Identity Operators(is, is not)\n",
        "6. Membership Operators(in, not in)\n",
        "7. Bitwise Operators(&,|,^,~,<<,>>)\n"
      ],
      "metadata": {
        "id": "3pTEl7Vr7Pd4"
      }
    },
    {
      "cell_type": "markdown",
      "source": [],
      "metadata": {
        "id": "80ZnSV3sCOK_"
      }
    },
    {
      "cell_type": "code",
      "source": [
        "p = 9\n",
        "q = 4\n",
        "print(p+q)\n",
        "print(p-q)\n",
        "print(p*q)\n",
        "print(p/q)\n",
        "print(p%q)\n",
        "print(p**q)"
      ],
      "metadata": {
        "colab": {
          "base_uri": "https://localhost:8080/"
        },
        "id": "rn6SQlOi9v6G",
        "outputId": "cfcfcbcb-bedf-44c4-b8ff-fae62ab78952"
      },
      "execution_count": null,
      "outputs": [
        {
          "output_type": "stream",
          "name": "stdout",
          "text": [
            "13\n",
            "5\n",
            "36\n",
            "2.25\n",
            "1\n",
            "6561\n"
          ]
        }
      ]
    },
    {
      "cell_type": "code",
      "source": [
        "print(p==q)\n",
        "print(p<=q)\n",
        "print(p>=q)\n",
        "print(p<q)\n",
        "print(p>q)\n",
        "print(p!=q)"
      ],
      "metadata": {
        "colab": {
          "base_uri": "https://localhost:8080/"
        },
        "id": "Sr7Em3joBdS6",
        "outputId": "ecd178c7-7e45-443d-b125-4b9617f305a7"
      },
      "execution_count": null,
      "outputs": [
        {
          "output_type": "stream",
          "name": "stdout",
          "text": [
            "False\n",
            "True\n",
            "False\n",
            "True\n",
            "False\n",
            "True\n"
          ]
        }
      ]
    },
    {
      "cell_type": "code",
      "source": [
        "p+=q\n",
        "print(p)\n",
        "p-=q\n",
        "print(p)\n",
        "p*=q\n",
        "print(p)\n",
        "p/=q\n",
        "print(p)\n",
        "p%=q\n",
        "print(p)\n",
        "p**=q\n",
        "print(p)\n",
        "#p&=q\n",
        "#print(p)\n",
        "#p|=q\n",
        "#print(p)\n",
        "#p^=q\n",
        "#print(p)\n",
        "#p>>=2\n",
        "#print(p)\n",
        "#p<<=2\n",
        "#print(p)"
      ],
      "metadata": {
        "colab": {
          "base_uri": "https://localhost:8080/"
        },
        "id": "1t7sKLUnB6Vk",
        "outputId": "956358ed-73e5-49d0-d09d-eae96a625f78"
      },
      "execution_count": null,
      "outputs": [
        {
          "output_type": "stream",
          "name": "stdout",
          "text": [
            "13\n",
            "9\n",
            "36\n",
            "9.0\n",
            "1.0\n",
            "1.0\n"
          ]
        }
      ]
    },
    {
      "cell_type": "code",
      "source": [
        "a=5\n",
        "# & -> and\n",
        "if (a<7 and a>3):\n",
        "  print(\"True\")\n",
        "else:\n",
        "  print(\"False\")\n",
        "\n",
        "b = 8\n",
        "# | -> or\n",
        "if (b<7 or b>3):\n",
        "  print(\"True\")\n",
        "else:\n",
        "  print(\"False\")\n",
        "\n",
        "c = 5\n",
        "# ! -> not\n",
        "if (not(c<7 and c>3)):\n",
        "  print(\"True\")\n",
        "else:\n",
        "  print(\"False\")"
      ],
      "metadata": {
        "colab": {
          "base_uri": "https://localhost:8080/"
        },
        "id": "MrqCXmiV3Rwj",
        "outputId": "64ff9136-ffd7-4a49-9320-febea9e024ba"
      },
      "execution_count": null,
      "outputs": [
        {
          "output_type": "stream",
          "name": "stdout",
          "text": [
            "True\n",
            "True\n",
            "False\n"
          ]
        }
      ]
    },
    {
      "cell_type": "code",
      "source": [
        "m = 11; n = 19;\n",
        "print(m&n)\n",
        "print(m|n)\n",
        "print(m^n)\n",
        "print(~m)\n",
        "print(m>>2)\n",
        "print(m<<2)"
      ],
      "metadata": {
        "colab": {
          "base_uri": "https://localhost:8080/"
        },
        "id": "AttWfi8J5Yl9",
        "outputId": "0f1da9af-6e0e-4cc3-8dc0-7f37b76e1a96"
      },
      "execution_count": null,
      "outputs": [
        {
          "output_type": "stream",
          "name": "stdout",
          "text": [
            "3\n",
            "27\n",
            "24\n",
            "-12\n",
            "2\n",
            "44\n"
          ]
        }
      ]
    },
    {
      "cell_type": "markdown",
      "source": [
        "# List\n",
        "\n",
        "Declaration:\n",
        "variableName = [None]*size\n",
        "/\n",
        "variableNAme = []\n",
        "\n",
        "Initialization:\n",
        "variableName = [int, float, string]\n",
        "\n",
        "# Set\n",
        "\n",
        "Declaration:\n",
        "variableName = {}\n",
        "\n",
        "initialization:\n",
        "variableName = {int,float,string}\n",
        "\n",
        "Order of the elements of a set:\n",
        "Integer > String > Float\n",
        "\n",
        "\n",
        "A Set/List can contain multiple integer numbers, float numbers or strings in it. Furthermore A List can contain multiple sets or lists inside it.\n",
        "But every elements of a list has an index while the elements of a set doesn't.\n",
        "A list can have higher dimentions.but a set will always be 1D. That means, a list can contain multiple list or set inside of it but a set couldn't."
      ],
      "metadata": {
        "id": "3_Ie025WG0mN"
      }
    },
    {
      "cell_type": "code",
      "source": [
        "li1 = [1,2,4,6]\n",
        "print(li1)\n",
        "\n",
        "li1.append(16)\n",
        "print(li1)\n",
        "\n",
        "li1.append(\"Suraim\")\n",
        "print(li1)\n",
        "\n",
        "li1.remove(2)\n",
        "li1"
      ],
      "metadata": {
        "colab": {
          "base_uri": "https://localhost:8080/"
        },
        "id": "J_Fu3Evq5Yfx",
        "outputId": "ea22e71c-db89-4afe-e0d7-6dec1b0ee628"
      },
      "execution_count": null,
      "outputs": [
        {
          "output_type": "stream",
          "name": "stdout",
          "text": [
            "[1, 2, 4, 6]\n",
            "[1, 2, 4, 6, 16]\n",
            "[1, 2, 4, 6, 16, 'Suraim']\n"
          ]
        },
        {
          "output_type": "execute_result",
          "data": {
            "text/plain": [
              "[1, 4, 6, 16, 'Suraim']"
            ]
          },
          "metadata": {},
          "execution_count": 194
        }
      ]
    },
    {
      "cell_type": "markdown",
      "source": [
        "#Indexing\n",
        "\n",
        "1. Left to Right: 0,1,2,3...\n",
        "2. Right to Left: -1,-2,-3..."
      ],
      "metadata": {
        "id": "03FSNJ9eJETm"
      }
    },
    {
      "cell_type": "code",
      "source": [
        "li1[0] = 9\n",
        "li1[-2] = \"Towanur\"\n",
        "print(li1)\n",
        "li1[-1],li1[-2] = li1[-2],li1[-1]\n",
        "print(li1)\n",
        "#del(li1)\n",
        "#print(li1) (Error: li1 is not defined)\n",
        "li1.clear()\n",
        "print(li1) #(All the elements will be deleted.Empty list will remain)"
      ],
      "metadata": {
        "colab": {
          "base_uri": "https://localhost:8080/"
        },
        "id": "2F-xMzm6Jdrf",
        "outputId": "4c448ff3-8fba-4866-a79e-6848cfbf5b40"
      },
      "execution_count": null,
      "outputs": [
        {
          "output_type": "stream",
          "name": "stdout",
          "text": [
            "[9, 4, 6, 'Towanur', 'Suraim']\n",
            "[9, 4, 6, 'Suraim', 'Towanur']\n",
            "[]\n"
          ]
        }
      ]
    },
    {
      "cell_type": "code",
      "source": [
        "li2 = [1,23,4.5,\"ST\"]\n",
        "print(li2)\n",
        "li1.append(37)\n",
        "sum = li1 + li2\n",
        "print(sum)\n",
        "li3 = []\n",
        "li3.append({1,2,4,6.5,9,\"ME\"})\n",
        "print(li3)\n",
        "li3.append(li2)\n",
        "print(li3)\n",
        "li3.append(49)\n",
        "print(li3)\n",
        "s = {0,5.5,8,\"Hi\"}\n",
        "print(s)"
      ],
      "metadata": {
        "colab": {
          "base_uri": "https://localhost:8080/"
        },
        "id": "2d3_xFBNKi_4",
        "outputId": "9e2c6b2f-3717-4dab-a77c-18212b15f7e9"
      },
      "execution_count": null,
      "outputs": [
        {
          "output_type": "stream",
          "name": "stdout",
          "text": [
            "[1, 23, 4.5, 'ST']\n",
            "[37, 1, 23, 4.5, 'ST']\n",
            "[{1, 2, 4, 6.5, 9, 'ME'}]\n",
            "[{1, 2, 4, 6.5, 9, 'ME'}, [1, 23, 4.5, 'ST']]\n",
            "[{1, 2, 4, 6.5, 9, 'ME'}, [1, 23, 4.5, 'ST'], 49]\n",
            "{0, 8, 'Hi', 5.5}\n"
          ]
        }
      ]
    },
    {
      "cell_type": "markdown",
      "source": [
        "#Tuple\n",
        "one type of data structure\n",
        "\n",
        "Declaration:\n",
        "variableName = ()\n",
        "\n",
        "Initialization:\n",
        "variableName = (int, float, string)\n",
        "\n",
        "### Tuple can be converted to list.\n",
        "No changes can be occured in a tuple. That is why, a tuple is usually converted to a list.\n"
      ],
      "metadata": {
        "id": "bMVuDtcCWFqh"
      }
    },
    {
      "cell_type": "code",
      "source": [
        "tup1 = (0,4,3,0.5,\"HI\")\n",
        "print(tup1)\n",
        "\n",
        "#convertion\n",
        "y = list(tup1)\n",
        "print(y)\n",
        "y[1] = 9\n",
        "print(y)\n",
        "tup1 = tuple(y)\n",
        "print(tup1)\n",
        "\n",
        "tup2 = list(tup1)\n",
        "tup2.remove(\"HI\")\n",
        "print(tuple(tup2))\n",
        "print(tuple(tup2[1:3])) #(print indexing:[startingIndex : endingIndex+1])"
      ],
      "metadata": {
        "colab": {
          "base_uri": "https://localhost:8080/"
        },
        "id": "CaJEH0e5WFPz",
        "outputId": "f3f291ca-9677-4cb2-8996-fc39f9266a75"
      },
      "execution_count": 219,
      "outputs": [
        {
          "output_type": "stream",
          "name": "stdout",
          "text": [
            "(0, 4, 3, 0.5, 'HI')\n",
            "[0, 4, 3, 0.5, 'HI']\n",
            "[0, 9, 3, 0.5, 'HI']\n",
            "(0, 9, 3, 0.5, 'HI')\n",
            "(0, 9, 3, 0.5)\n",
            "(9, 3)\n"
          ]
        }
      ]
    }
  ]
}