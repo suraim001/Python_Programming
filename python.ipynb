{
  "nbformat": 4,
  "nbformat_minor": 0,
  "metadata": {
    "colab": {
      "provenance": [],
      "mount_file_id": "1GvJ8W139OZlt04M0KD0jv-pEpTHteiSo",
      "authorship_tag": "ABX9TyPAhn1ttqdpYCoi0B0Ppl3H",
      "include_colab_link": true
    },
    "kernelspec": {
      "name": "python3",
      "display_name": "Python 3"
    },
    "language_info": {
      "name": "python"
    }
  },
  "cells": [
    {
      "cell_type": "markdown",
      "metadata": {
        "id": "view-in-github",
        "colab_type": "text"
      },
      "source": [
        "<a href=\"https://colab.research.google.com/github/suraim001/Python_Programming/blob/main/python.ipynb\" target=\"_parent\"><img src=\"https://colab.research.google.com/assets/colab-badge.svg\" alt=\"Open In Colab\"/></a>"
      ]
    },
    {
      "cell_type": "markdown",
      "source": [
        "print: Hello World"
      ],
      "metadata": {
        "id": "eJ6_REmj3rDq"
      }
    },
    {
      "cell_type": "code",
      "execution_count": 2,
      "metadata": {
        "colab": {
          "base_uri": "https://localhost:8080/"
        },
        "id": "6rO_HDyzzyTl",
        "outputId": "99c2cf6c-b196-4489-c737-b516620c69e1"
      },
      "outputs": [
        {
          "output_type": "stream",
          "name": "stdout",
          "text": [
            "Hello World\n"
          ]
        }
      ],
      "source": [
        "print(\"Hello World\")"
      ]
    },
    {
      "cell_type": "markdown",
      "source": [
        "#Data type\n",
        "1. string\n",
        "2. int\n",
        "3. bool\n",
        "4. float"
      ],
      "metadata": {
        "id": "IIUTgPRY3yza"
      }
    },
    {
      "cell_type": "code",
      "source": [
        "print(5)"
      ],
      "metadata": {
        "colab": {
          "base_uri": "https://localhost:8080/"
        },
        "id": "fBJudyRi29X3",
        "outputId": "6f292c28-2426-4524-d39c-3a2101e99f1e"
      },
      "execution_count": 3,
      "outputs": [
        {
          "output_type": "stream",
          "name": "stdout",
          "text": [
            "5\n"
          ]
        }
      ]
    },
    {
      "cell_type": "code",
      "source": [
        "print(type(5))"
      ],
      "metadata": {
        "colab": {
          "base_uri": "https://localhost:8080/"
        },
        "id": "G2FgBdH83CBa",
        "outputId": "27735dba-e738-40c1-f821-a3fccd29f1c6"
      },
      "execution_count": 4,
      "outputs": [
        {
          "output_type": "stream",
          "name": "stdout",
          "text": [
            "<class 'int'>\n"
          ]
        }
      ]
    },
    {
      "cell_type": "code",
      "source": [
        "print(type(\"Hello World\"))"
      ],
      "metadata": {
        "colab": {
          "base_uri": "https://localhost:8080/"
        },
        "id": "eA1b7mkx3JTx",
        "outputId": "45ef03e0-8969-409f-bb49-219e716dcf96"
      },
      "execution_count": 5,
      "outputs": [
        {
          "output_type": "stream",
          "name": "stdout",
          "text": [
            "<class 'str'>\n"
          ]
        }
      ]
    },
    {
      "cell_type": "code",
      "source": [
        "print(type(True))"
      ],
      "metadata": {
        "colab": {
          "base_uri": "https://localhost:8080/"
        },
        "id": "WhwD7TDN3Neg",
        "outputId": "16667b96-31ce-4940-8eed-fab72a194a25"
      },
      "execution_count": 6,
      "outputs": [
        {
          "output_type": "stream",
          "name": "stdout",
          "text": [
            "<class 'bool'>\n"
          ]
        }
      ]
    },
    {
      "cell_type": "code",
      "source": [
        "print(type(10.5))"
      ],
      "metadata": {
        "colab": {
          "base_uri": "https://localhost:8080/"
        },
        "id": "wLopcRlU3Qyu",
        "outputId": "a5193ff3-c1ec-4092-d877-f6bca1644333"
      },
      "execution_count": 7,
      "outputs": [
        {
          "output_type": "stream",
          "name": "stdout",
          "text": [
            "<class 'float'>\n"
          ]
        }
      ]
    },
    {
      "cell_type": "code",
      "source": [
        "name = \"Maisha\"\n",
        "print(name + \" got GPA 5. Congratulations to \" + name)"
      ],
      "metadata": {
        "colab": {
          "base_uri": "https://localhost:8080/"
        },
        "id": "tV1VtnTo3d7P",
        "outputId": "42e64dbd-2799-4b43-c3c2-5c7bd9663386"
      },
      "execution_count": 8,
      "outputs": [
        {
          "output_type": "stream",
          "name": "stdout",
          "text": [
            "Maisha got GPA 5. Congratulations to Maisha\n"
          ]
        }
      ]
    },
    {
      "cell_type": "code",
      "source": [
        "Name = input (\"Please give your name: \")\n",
        "print(Name + \" got GPA 5. Cogratulations to \" + Name)"
      ],
      "metadata": {
        "colab": {
          "base_uri": "https://localhost:8080/"
        },
        "id": "OzaDZ68w5kcr",
        "outputId": "9f060ed3-b972-4138-a903-0493d7977d80"
      },
      "execution_count": 9,
      "outputs": [
        {
          "output_type": "stream",
          "name": "stdout",
          "text": [
            "Please give your name: Towanur\n",
            "Towanur got GPA 5. Cogratulations to Towanur\n"
          ]
        }
      ]
    },
    {
      "cell_type": "code",
      "source": [
        "a = float(input(\"Enter a number: \"))\n",
        "b = float(input(\"Enter another number: \"))\n",
        "result = int(a+b)\n",
        "print((result))"
      ],
      "metadata": {
        "colab": {
          "base_uri": "https://localhost:8080/"
        },
        "id": "pRKASDIS6cXM",
        "outputId": "b4d04b1a-1aa5-4c2d-9e3a-f1832c488d80"
      },
      "execution_count": 17,
      "outputs": [
        {
          "output_type": "stream",
          "name": "stdout",
          "text": [
            "Enter a number: 4.5\n",
            "Enter another number: 7.4\n",
            "11\n"
          ]
        }
      ]
    }
  ]
}