{
  "nbformat": 4,
  "nbformat_minor": 0,
  "metadata": {
    "colab": {
      "provenance": [],
      "mount_file_id": "1GvJ8W139OZlt04M0KD0jv-pEpTHteiSo",
      "authorship_tag": "ABX9TyPUINMeyW0D88m+w28TulnZ",
      "include_colab_link": true
    },
    "kernelspec": {
      "name": "python3",
      "display_name": "Python 3"
    },
    "language_info": {
      "name": "python"
    }
  },
  "cells": [
    {
      "cell_type": "markdown",
      "metadata": {
        "id": "view-in-github",
        "colab_type": "text"
      },
      "source": [
        "<a href=\"https://colab.research.google.com/github/suraim001/Python_Programming/blob/main/python.ipynb\" target=\"_parent\"><img src=\"https://colab.research.google.com/assets/colab-badge.svg\" alt=\"Open In Colab\"/></a>"
      ]
    },
    {
      "cell_type": "markdown",
      "source": [
        "print: Hello World"
      ],
      "metadata": {
        "id": "eJ6_REmj3rDq"
      }
    },
    {
      "cell_type": "code",
      "execution_count": 1,
      "metadata": {
        "colab": {
          "base_uri": "https://localhost:8080/"
        },
        "id": "6rO_HDyzzyTl",
        "outputId": "022d2c5c-e7ef-4b48-df08-56db71f9f546"
      },
      "outputs": [
        {
          "output_type": "stream",
          "name": "stdout",
          "text": [
            "Hello World\n",
            "Hello World\n"
          ]
        },
        {
          "output_type": "execute_result",
          "data": {
            "text/plain": [
              "22"
            ]
          },
          "metadata": {},
          "execution_count": 1
        }
      ],
      "source": [
        "print(\"Hello World\")\n",
        "wish = \"Hello World\"\n",
        "print(wish)\n",
        "age = 22\n",
        "age"
      ]
    },
    {
      "cell_type": "markdown",
      "source": [
        "#Data type\n",
        "1. string\n",
        "2. int\n",
        "3. bool\n",
        "4. float"
      ],
      "metadata": {
        "id": "IIUTgPRY3yza"
      }
    },
    {
      "cell_type": "code",
      "source": [
        "print(5)"
      ],
      "metadata": {
        "colab": {
          "base_uri": "https://localhost:8080/"
        },
        "id": "fBJudyRi29X3",
        "outputId": "b56c911a-4caf-4f00-a067-4c525d8b1e73"
      },
      "execution_count": 2,
      "outputs": [
        {
          "output_type": "stream",
          "name": "stdout",
          "text": [
            "5\n"
          ]
        }
      ]
    },
    {
      "cell_type": "code",
      "source": [
        "print(type(5))"
      ],
      "metadata": {
        "colab": {
          "base_uri": "https://localhost:8080/"
        },
        "id": "G2FgBdH83CBa",
        "outputId": "98eb5e2e-6f6a-4b89-db32-b7ba63e0004d"
      },
      "execution_count": 3,
      "outputs": [
        {
          "output_type": "stream",
          "name": "stdout",
          "text": [
            "<class 'int'>\n"
          ]
        }
      ]
    },
    {
      "cell_type": "code",
      "source": [
        "print(type(\"Hello World\"))"
      ],
      "metadata": {
        "colab": {
          "base_uri": "https://localhost:8080/"
        },
        "id": "eA1b7mkx3JTx",
        "outputId": "f7561578-f0bf-4b87-80e9-edef93410a0f"
      },
      "execution_count": 4,
      "outputs": [
        {
          "output_type": "stream",
          "name": "stdout",
          "text": [
            "<class 'str'>\n"
          ]
        }
      ]
    },
    {
      "cell_type": "code",
      "source": [
        "print(type(True))"
      ],
      "metadata": {
        "colab": {
          "base_uri": "https://localhost:8080/"
        },
        "id": "WhwD7TDN3Neg",
        "outputId": "b418f8a7-fae1-4bbb-e4ea-d9ab29e4f15d"
      },
      "execution_count": 5,
      "outputs": [
        {
          "output_type": "stream",
          "name": "stdout",
          "text": [
            "<class 'bool'>\n"
          ]
        }
      ]
    },
    {
      "cell_type": "code",
      "source": [
        "print(type(10.5))"
      ],
      "metadata": {
        "colab": {
          "base_uri": "https://localhost:8080/"
        },
        "id": "wLopcRlU3Qyu",
        "outputId": "e8f95f82-c995-48cc-e5d9-23b82c35c8e9"
      },
      "execution_count": 6,
      "outputs": [
        {
          "output_type": "stream",
          "name": "stdout",
          "text": [
            "<class 'float'>\n"
          ]
        }
      ]
    },
    {
      "cell_type": "code",
      "source": [
        "name = \"Maisha\"\n",
        "print(name + \" got GPA 5. Congratulations to \" + name)"
      ],
      "metadata": {
        "colab": {
          "base_uri": "https://localhost:8080/"
        },
        "id": "tV1VtnTo3d7P",
        "outputId": "75467f94-a035-41a9-aa32-09d3913d92d0"
      },
      "execution_count": 7,
      "outputs": [
        {
          "output_type": "stream",
          "name": "stdout",
          "text": [
            "Maisha got GPA 5. Congratulations to Maisha\n"
          ]
        }
      ]
    },
    {
      "cell_type": "code",
      "source": [
        "Name = input (\"Please give your name: \")\n",
        "print(Name + \" got GPA 5. Cogratulations to \" + Name)"
      ],
      "metadata": {
        "colab": {
          "base_uri": "https://localhost:8080/"
        },
        "id": "OzaDZ68w5kcr",
        "outputId": "0c8f4900-3da7-43fa-9529-3aa4edcebc7d"
      },
      "execution_count": 8,
      "outputs": [
        {
          "output_type": "stream",
          "name": "stdout",
          "text": [
            "Please give your name: Towanur\n",
            "Towanur got GPA 5. Cogratulations to Towanur\n"
          ]
        }
      ]
    },
    {
      "cell_type": "code",
      "source": [
        "a = float(input(\"Enter a number: \"))\n",
        "b = float(input(\"Enter another number: \"))\n",
        "result = int(a+b)\n",
        "print((result))"
      ],
      "metadata": {
        "colab": {
          "base_uri": "https://localhost:8080/"
        },
        "id": "pRKASDIS6cXM",
        "outputId": "2f6e6a39-9bf6-4a50-dba0-fae67b26ea75"
      },
      "execution_count": 9,
      "outputs": [
        {
          "output_type": "stream",
          "name": "stdout",
          "text": [
            "Enter a number: 34\n",
            "Enter another number: 5\n",
            "39\n"
          ]
        }
      ]
    },
    {
      "cell_type": "code",
      "source": [
        "print(5>7)\n",
        "print(bool(\"haha\"))\n",
        "print(bool(\"\"))\n",
        "print(bool(1))\n",
        "print(bool(0))\n",
        "print(bool(None))\n",
        "print(bool(True))\n",
        "print(bool(False))\n",
        "print(bool([]))\n",
        "print(bool({}))\n",
        "print(bool(()))\n",
        "print(bool(-1))\n",
        "print(bool(5))"
      ],
      "metadata": {
        "colab": {
          "base_uri": "https://localhost:8080/"
        },
        "id": "d1iHLeDX26lR",
        "outputId": "1f5ca4b7-8cd5-4b28-9d28-fd1dcfc71242"
      },
      "execution_count": 10,
      "outputs": [
        {
          "output_type": "stream",
          "name": "stdout",
          "text": [
            "False\n",
            "True\n",
            "False\n",
            "True\n",
            "False\n",
            "False\n",
            "True\n",
            "False\n",
            "False\n",
            "False\n",
            "False\n",
            "True\n",
            "True\n"
          ]
        }
      ]
    },
    {
      "cell_type": "markdown",
      "source": [
        "#operators\n",
        "\n",
        "1. Arithmetic Operators(+ , - , * , / , % , **(power))\n",
        "2. Comparison/Relational Operators(==,<=,>=,<,>,!=)\n",
        "3. Assignment Operators(=,+=,-=,*=,/=,%=,**=, &=,|=,^=,>>=,<<=)\n",
        "4. Logical Operators(and, or, not)\n",
        "5. Identity Operators(is, is not)\n",
        "6. Membership Operators(in, not in)\n",
        "7. Bitwise Operators(&,|,^,~,<<,>>)\n"
      ],
      "metadata": {
        "id": "3pTEl7Vr7Pd4"
      }
    },
    {
      "cell_type": "markdown",
      "source": [],
      "metadata": {
        "id": "80ZnSV3sCOK_"
      }
    },
    {
      "cell_type": "code",
      "source": [
        "p = 9\n",
        "q = 4\n",
        "print(p+q)\n",
        "print(p-q)\n",
        "print(p*q)\n",
        "print(p/q)\n",
        "print(p%q)\n",
        "print(p**q)"
      ],
      "metadata": {
        "colab": {
          "base_uri": "https://localhost:8080/"
        },
        "id": "rn6SQlOi9v6G",
        "outputId": "19058cac-d579-4f3e-ea8f-9b3690334a40"
      },
      "execution_count": 11,
      "outputs": [
        {
          "output_type": "stream",
          "name": "stdout",
          "text": [
            "13\n",
            "5\n",
            "36\n",
            "2.25\n",
            "1\n",
            "6561\n"
          ]
        }
      ]
    },
    {
      "cell_type": "code",
      "source": [
        "print(p==q)\n",
        "print(p<=q)\n",
        "print(p>=q)\n",
        "print(p<q)\n",
        "print(p>q)\n",
        "print(p!=q)"
      ],
      "metadata": {
        "colab": {
          "base_uri": "https://localhost:8080/"
        },
        "id": "Sr7Em3joBdS6",
        "outputId": "89e6ea79-6937-4108-9091-f9371f797737"
      },
      "execution_count": 12,
      "outputs": [
        {
          "output_type": "stream",
          "name": "stdout",
          "text": [
            "False\n",
            "False\n",
            "True\n",
            "False\n",
            "True\n",
            "True\n"
          ]
        }
      ]
    },
    {
      "cell_type": "code",
      "source": [
        "p+=q\n",
        "print(p)\n",
        "p-=q\n",
        "print(p)\n",
        "p*=q\n",
        "print(p)\n",
        "p/=q\n",
        "print(p)\n",
        "p%=q\n",
        "print(p)\n",
        "p**=q\n",
        "print(p)\n",
        "#p&=q\n",
        "#print(p)\n",
        "#p|=q\n",
        "#print(p)\n",
        "#p^=q\n",
        "#print(p)\n",
        "#p>>=2\n",
        "#print(p)\n",
        "#p<<=2\n",
        "#print(p)"
      ],
      "metadata": {
        "colab": {
          "base_uri": "https://localhost:8080/"
        },
        "id": "1t7sKLUnB6Vk",
        "outputId": "9e6b39d4-3ccf-4a3b-92ed-6f8aa02e7bb0"
      },
      "execution_count": 13,
      "outputs": [
        {
          "output_type": "stream",
          "name": "stdout",
          "text": [
            "13\n",
            "9\n",
            "36\n",
            "9.0\n",
            "1.0\n",
            "1.0\n"
          ]
        }
      ]
    },
    {
      "cell_type": "code",
      "source": [
        "a=5\n",
        "# & -> and\n",
        "if (a<7 and a>3):\n",
        "  print(\"True\")\n",
        "else:\n",
        "  print(\"False\")\n",
        "\n",
        "b = 8\n",
        "# | -> or\n",
        "if (b<7 or b>3):\n",
        "  print(\"True\")\n",
        "else:\n",
        "  print(\"False\")\n",
        "\n",
        "c = 5\n",
        "# ! -> not\n",
        "if (not(c<7 and c>3)):\n",
        "  print(\"True\")\n",
        "else:\n",
        "  print(\"False\")"
      ],
      "metadata": {
        "colab": {
          "base_uri": "https://localhost:8080/"
        },
        "id": "MrqCXmiV3Rwj",
        "outputId": "bfd0cbfc-bb9b-4434-cc10-28252647eee4"
      },
      "execution_count": 14,
      "outputs": [
        {
          "output_type": "stream",
          "name": "stdout",
          "text": [
            "True\n",
            "True\n",
            "False\n"
          ]
        }
      ]
    },
    {
      "cell_type": "code",
      "source": [
        "m = 11; n = 19;\n",
        "print(m&n)\n",
        "print(m|n)\n",
        "print(m^n)\n",
        "print(~m)\n",
        "print(m>>2)\n",
        "print(m<<2)"
      ],
      "metadata": {
        "colab": {
          "base_uri": "https://localhost:8080/"
        },
        "id": "AttWfi8J5Yl9",
        "outputId": "61dcc537-7a32-4b82-df95-a4325e8160b8"
      },
      "execution_count": 15,
      "outputs": [
        {
          "output_type": "stream",
          "name": "stdout",
          "text": [
            "3\n",
            "27\n",
            "24\n",
            "-12\n",
            "2\n",
            "44\n"
          ]
        }
      ]
    },
    {
      "cell_type": "markdown",
      "source": [
        "# List\n",
        "\n",
        "Declaration:\n",
        "variableName = [None]*size\n",
        "/\n",
        "variableNAme = []\n",
        "\n",
        "Initialization:\n",
        "variableName = [int, float, string]\n",
        "\n",
        "# Set\n",
        "\n",
        "Declaration:\n",
        "variableName = {}\n",
        "\n",
        "initialization:\n",
        "variableName = {int,float,string}\n",
        "\n",
        "Order of the elements of a set:\n",
        "Integer > String > Float\n",
        "\n",
        "### Set can be converted to list.\n",
        "Some changes can be occured in a set.\n",
        "\n",
        "\n",
        "A Set/List can contain multiple integer numbers, float numbers or strings in it. Furthermore A List can contain multiple sets or lists inside it.\n",
        "But every elements of a list has an index while the elements of a set doesn't.\n",
        "A list can have higher dimentions.but a set will always be 1D. That means, a list can contain multiple list or set inside of it but a set couldn't."
      ],
      "metadata": {
        "id": "3_Ie025WG0mN"
      }
    },
    {
      "cell_type": "code",
      "source": [
        "#List\n",
        "li1 = [1,2,4,6]\n",
        "print(li1)\n",
        "\n",
        "li1.append(16)\n",
        "print(li1)\n",
        "\n",
        "li1.append(\"Suraim\")\n",
        "print(li1)\n",
        "\n",
        "li1.remove(2)\n",
        "print(li1)\n",
        "\n",
        "print(len(li1))\n",
        "\n",
        "#Set\n",
        "x = {2, 4, 6}\n",
        "print(x)\n",
        "print(len(x))\n",
        "x.add(\"Towanur\")\n",
        "print(x)\n",
        "x.remove(4)\n",
        "print(x)\n",
        "x.clear()\n",
        "print(x)\n",
        "x.add(76)\n",
        "x.add(53)\n",
        "y = {1,2,3,4}\n",
        "x.update(y)\n",
        "print(x)\n",
        "z = list(x)\n",
        "print(z)\n",
        "del(x)\n",
        "#print(x) -> (Error: x is not defined)\n"
      ],
      "metadata": {
        "colab": {
          "base_uri": "https://localhost:8080/"
        },
        "id": "J_Fu3Evq5Yfx",
        "outputId": "6df4c6a5-615e-4de1-f176-e9cbbddd3934"
      },
      "execution_count": 32,
      "outputs": [
        {
          "output_type": "stream",
          "name": "stdout",
          "text": [
            "[1, 2, 4, 6]\n",
            "[1, 2, 4, 6, 16]\n",
            "[1, 2, 4, 6, 16, 'Suraim']\n",
            "[1, 4, 6, 16, 'Suraim']\n",
            "5\n",
            "{2, 4, 6}\n",
            "3\n",
            "{2, 'Towanur', 4, 6}\n",
            "{2, 'Towanur', 6}\n",
            "set()\n",
            "{1, 2, 3, 4, 53, 76}\n",
            "[1, 2, 3, 4, 53, 76]\n"
          ]
        }
      ]
    },
    {
      "cell_type": "markdown",
      "source": [
        "#Indexing\n",
        "\n",
        "1. Left to Right: 0,1,2,3...\n",
        "2. Right to Left: -1,-2,-3..."
      ],
      "metadata": {
        "id": "03FSNJ9eJETm"
      }
    },
    {
      "cell_type": "code",
      "source": [
        "li1[0] = 9\n",
        "li1[-2] = \"Towanur\"\n",
        "print(li1)\n",
        "li1[-1],li1[-2] = li1[-2],li1[-1]\n",
        "print(li1)\n",
        "#del(li1)\n",
        "#print(li1) (Error: li1 is not defined)\n",
        "li1.clear()\n",
        "print(li1) #(All the elements will be deleted.Empty list will remain)"
      ],
      "metadata": {
        "colab": {
          "base_uri": "https://localhost:8080/"
        },
        "id": "2F-xMzm6Jdrf",
        "outputId": "e9c66e40-9625-40d1-a21d-ab151d4aaf19"
      },
      "execution_count": 17,
      "outputs": [
        {
          "output_type": "stream",
          "name": "stdout",
          "text": [
            "[9, 4, 6, 'Towanur', 'Suraim']\n",
            "[9, 4, 6, 'Suraim', 'Towanur']\n",
            "[]\n"
          ]
        }
      ]
    },
    {
      "cell_type": "code",
      "source": [
        "li2 = [1,23,4.5,\"ST\"]\n",
        "print(li2)\n",
        "li1.append(37)\n",
        "sum = li1 + li2\n",
        "print(sum)\n",
        "li3 = []\n",
        "li3.append({1,2,4,6.5,9,\"ME\"})\n",
        "print(li3)\n",
        "li3.append(li2)\n",
        "print(li3)\n",
        "li3.append(49)\n",
        "print(li3)\n",
        "s = {0,5.5,8,\"Hi\"}\n",
        "print(s)"
      ],
      "metadata": {
        "colab": {
          "base_uri": "https://localhost:8080/"
        },
        "id": "2d3_xFBNKi_4",
        "outputId": "f13975a8-ab04-4062-b5cb-b83b742e358b"
      },
      "execution_count": 18,
      "outputs": [
        {
          "output_type": "stream",
          "name": "stdout",
          "text": [
            "[1, 23, 4.5, 'ST']\n",
            "[37, 1, 23, 4.5, 'ST']\n",
            "[{1, 2, 4, 6.5, 9, 'ME'}]\n",
            "[{1, 2, 4, 6.5, 9, 'ME'}, [1, 23, 4.5, 'ST']]\n",
            "[{1, 2, 4, 6.5, 9, 'ME'}, [1, 23, 4.5, 'ST'], 49]\n",
            "{0, 8, 'Hi', 5.5}\n"
          ]
        }
      ]
    },
    {
      "cell_type": "markdown",
      "source": [
        "#Tuple\n",
        "one type of data structure\n",
        "\n",
        "Declaration:\n",
        "variableName = ()\n",
        "\n",
        "Initialization:\n",
        "variableName = (int, float, string)\n",
        "\n",
        "### Tuple can be converted to list.\n",
        "No changes can be occured in a tuple. That is why, a tuple is usually converted to a list.\n",
        "\n",
        "\n",
        "#Dictionary\n",
        "\n",
        "Declaration and initialization:\n",
        "variableName = {keyword1:value1, keyword2:value2 ...}\n",
        "\n",
        "every value can be access by its keyword in a dictionary. and it is changeable.\n",
        "\n",
        "### Dictionary can be converted to list.\n"
      ],
      "metadata": {
        "id": "bMVuDtcCWFqh"
      }
    },
    {
      "cell_type": "code",
      "source": [
        "#Tuple\n",
        "tup1 = (0,4,3,0.5,\"HI\")\n",
        "print(tup1)\n",
        "\n",
        "#convertion\n",
        "y = list(tup1)\n",
        "print(y)\n",
        "y[1] = 9\n",
        "print(y)\n",
        "tup1 = tuple(y)\n",
        "print(tup1)\n",
        "\n",
        "tup2 = list(tup1)\n",
        "tup2.remove(\"HI\")\n",
        "print(tuple(tup2))\n",
        "print(tuple(tup2[1:3])) #(print indexing:[startingIndex : endingIndex+1])\n",
        "\n",
        "#Dictionary\n",
        "dict1 = {\"Shopping Mall\" : \"Top Ten\", \"Catagory\" : \"A\", \"Cost\" : \"Expensive\"}\n",
        "print(dict1)\n",
        "print(dict1['Shopping Mall'])\n",
        "dict1[\"Review\"] = \"Good\"\n",
        "print(dict1)\n",
        "dict1[\"Cost\"] = \"Very Expensive\"\n",
        "print(dict1)\n",
        "#print(dict1[\"Popularity\"]) #*Error: KeyError\n",
        "del(dict1[\"Review\"])\n",
        "print(dict1)\n",
        "print(dict1.keys())\n",
        "print(dict1.values())\n",
        "print(dict1.items())\n",
        "dict1.pop(\"Catagory\")\n",
        "print(dict1)\n",
        "dict1.popitem() #Removes one item from Right Hand Side\n",
        "print(dict1)\n",
        "dict1.popitem()\n",
        "print(dict1)\n",
        "dict1[\"University\"] = \"CUET\"\n",
        "dict1[\"Department\"] = \"MIE\"\n",
        "dict1[\"Lab Facilities\"] = \"Very Good\"\n",
        "print(dict1)\n",
        "dict1.update({\"Lab Facilities\" : \"Good\"})\n",
        "print(dict1)\n",
        "dict2 = dict1.copy()\n",
        "print(list(dict2.keys()))\n",
        "print(list(dict2.values()))\n",
        "print(list(dict2.items()))\n",
        "dict1.clear()\n",
        "print(dict1)\n",
        "del(dict1)\n",
        "#print(dict1) #(Error: dict1 is not defined\n",
        "#"
      ],
      "metadata": {
        "colab": {
          "base_uri": "https://localhost:8080/"
        },
        "id": "CaJEH0e5WFPz",
        "outputId": "3909a448-8911-400f-ce05-76d77ae23a50"
      },
      "execution_count": 52,
      "outputs": [
        {
          "output_type": "stream",
          "name": "stdout",
          "text": [
            "(0, 4, 3, 0.5, 'HI')\n",
            "[0, 4, 3, 0.5, 'HI']\n",
            "[0, 9, 3, 0.5, 'HI']\n",
            "(0, 9, 3, 0.5, 'HI')\n",
            "(0, 9, 3, 0.5)\n",
            "(9, 3)\n",
            "{'Shopping Mall': 'Top Ten', 'Catagory': 'A', 'Cost': 'Expensive'}\n",
            "Top Ten\n",
            "{'Shopping Mall': 'Top Ten', 'Catagory': 'A', 'Cost': 'Expensive', 'Review': 'Good'}\n",
            "{'Shopping Mall': 'Top Ten', 'Catagory': 'A', 'Cost': 'Very Expensive', 'Review': 'Good'}\n",
            "{'Shopping Mall': 'Top Ten', 'Catagory': 'A', 'Cost': 'Very Expensive'}\n",
            "dict_keys(['Shopping Mall', 'Catagory', 'Cost'])\n",
            "dict_values(['Top Ten', 'A', 'Very Expensive'])\n",
            "dict_items([('Shopping Mall', 'Top Ten'), ('Catagory', 'A'), ('Cost', 'Very Expensive')])\n",
            "{'Shopping Mall': 'Top Ten', 'Cost': 'Very Expensive'}\n",
            "{'Shopping Mall': 'Top Ten'}\n",
            "{}\n",
            "{'University': 'CUET', 'Department': 'MIE', 'Lab Facilities': 'Very Good'}\n",
            "{'University': 'CUET', 'Department': 'MIE', 'Lab Facilities': 'Good'}\n",
            "['University', 'Department', 'Lab Facilities']\n",
            "['CUET', 'MIE', 'Good']\n",
            "[('University', 'CUET'), ('Department', 'MIE'), ('Lab Facilities', 'Good')]\n",
            "{}\n"
          ]
        }
      ]
    }
  ]
}