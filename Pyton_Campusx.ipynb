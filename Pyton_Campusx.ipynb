{
  "nbformat": 4,
  "nbformat_minor": 0,
  "metadata": {
    "colab": {
      "provenance": [],
      "mount_file_id": "1IELlHPH2fbpg9dcZ7KDjSQ0gKOeHv5gX",
      "authorship_tag": "ABX9TyNK5CGZL1UWkqpd29va1Vhf",
      "include_colab_link": true
    },
    "kernelspec": {
      "name": "python3",
      "display_name": "Python 3"
    },
    "language_info": {
      "name": "python"
    }
  },
  "cells": [
    {
      "cell_type": "markdown",
      "metadata": {
        "id": "view-in-github",
        "colab_type": "text"
      },
      "source": [
        "<a href=\"https://colab.research.google.com/github/suraim001/Python_Programming/blob/main/Pyton_Campusx.ipynb\" target=\"_parent\"><img src=\"https://colab.research.google.com/assets/colab-badge.svg\" alt=\"Open In Colab\"/></a>"
      ]
    },
    {
      "cell_type": "markdown",
      "source": [
        "#Print Function\n",
        "\n",
        "print(values , ... , sep = ' ', end = '\\n')"
      ],
      "metadata": {
        "id": "I43boUTPsONr"
      }
    },
    {
      "cell_type": "code",
      "execution_count": null,
      "metadata": {
        "colab": {
          "base_uri": "https://localhost:8080/"
        },
        "id": "YMXENCajQcId",
        "outputId": "9e31641d-3a6d-4537-90c7-81448befb5d1"
      },
      "outputs": [
        {
          "output_type": "stream",
          "name": "stdout",
          "text": [
            "Hello World\n"
          ]
        }
      ],
      "source": [
        "print(\"Hello World\")"
      ]
    },
    {
      "cell_type": "code",
      "source": [
        "print(6)"
      ],
      "metadata": {
        "colab": {
          "base_uri": "https://localhost:8080/"
        },
        "id": "yUzk4YDupWc2",
        "outputId": "47cada46-bcdf-4a29-dbad-4613b4281966"
      },
      "execution_count": null,
      "outputs": [
        {
          "output_type": "stream",
          "name": "stdout",
          "text": [
            "6\n"
          ]
        }
      ]
    },
    {
      "cell_type": "code",
      "source": [
        "print(0.998)"
      ],
      "metadata": {
        "colab": {
          "base_uri": "https://localhost:8080/"
        },
        "id": "0n9K5Ucnpd2e",
        "outputId": "9a5d1e2f-2119-47e9-eb37-f624921c2ca4"
      },
      "execution_count": null,
      "outputs": [
        {
          "output_type": "stream",
          "name": "stdout",
          "text": [
            "0.998\n"
          ]
        }
      ]
    },
    {
      "cell_type": "code",
      "source": [
        "print(5>7)"
      ],
      "metadata": {
        "colab": {
          "base_uri": "https://localhost:8080/"
        },
        "id": "QrZnihqEpgUV",
        "outputId": "cbea920f-6fed-4a09-e386-82fcd3f327da"
      },
      "execution_count": null,
      "outputs": [
        {
          "output_type": "stream",
          "name": "stdout",
          "text": [
            "False\n"
          ]
        }
      ]
    },
    {
      "cell_type": "code",
      "source": [
        "print(\"Bangladesh\",\"Cox's Bazar\", \"Bus Terminal\", \"Sea Beach\")"
      ],
      "metadata": {
        "colab": {
          "base_uri": "https://localhost:8080/"
        },
        "id": "NDmXOEfopi23",
        "outputId": "5d0c41e3-c36f-4a8c-9ea0-3cf03046fbbd"
      },
      "execution_count": null,
      "outputs": [
        {
          "output_type": "stream",
          "name": "stdout",
          "text": [
            "Bangladesh Cox's Bazar Bus Terminal Sea Beach\n"
          ]
        }
      ]
    },
    {
      "cell_type": "code",
      "source": [
        "print(\"Bangladesh\", 78, True, 0.76, 'N', sep='/')"
      ],
      "metadata": {
        "colab": {
          "base_uri": "https://localhost:8080/"
        },
        "id": "i4YknbCbp00V",
        "outputId": "e84c2172-d012-4daa-dc67-c81e0b47c93d"
      },
      "execution_count": null,
      "outputs": [
        {
          "output_type": "stream",
          "name": "stdout",
          "text": [
            "Bangladesh/78/True/0.76/N\n"
          ]
        }
      ]
    },
    {
      "cell_type": "code",
      "source": [
        "print(\"Bangladesh\",\"Cox's Bazar\", \"Bus Terminal\", \"Sea Beach\", sep='/')\n",
        "print (\"Cox's Bazar is my\", end = ' ')\n",
        "print (\"Hometown\")"
      ],
      "metadata": {
        "colab": {
          "base_uri": "https://localhost:8080/"
        },
        "id": "ScR-EqqKp9Zf",
        "outputId": "1b101368-7b51-43d5-d3b5-cbc785d367d7"
      },
      "execution_count": null,
      "outputs": [
        {
          "output_type": "stream",
          "name": "stdout",
          "text": [
            "Bangladesh/Cox's Bazar/Bus Terminal/Sea Beach\n",
            "Cox's Bazar is my Hometown\n"
          ]
        }
      ]
    },
    {
      "cell_type": "markdown",
      "source": [
        "#Python supports 3 categories of data types:\n",
        "1. Basic Types (integer, float, complex, boolean and string)\n",
        "2. Container Types (List, Tuple, set and dictionary)\n",
        "3. User-defined Types (class)"
      ],
      "metadata": {
        "id": "EEexSoB4tQ5R"
      }
    },
    {
      "cell_type": "code",
      "source": [
        "# integer (range: (-1e308, 1e308), negative power: -324)\n",
        "print(79)\n",
        "print(5000000000000000000000000000000000000000000000000000000000000000000000000000000000000000000000000000000000000000000000000000000000000000000000000000000000000000000000000000000000000000000000000000000000000)\n",
        "print(1e308)\n",
        "print(-1e308)\n",
        "print(5e-324)"
      ],
      "metadata": {
        "colab": {
          "base_uri": "https://localhost:8080/"
        },
        "id": "QfSowWaKrC9U",
        "outputId": "51a04b24-661b-48ed-c5bb-2359d810be99"
      },
      "execution_count": null,
      "outputs": [
        {
          "output_type": "stream",
          "name": "stdout",
          "text": [
            "79\n",
            "5000000000000000000000000000000000000000000000000000000000000000000000000000000000000000000000000000000000000000000000000000000000000000000000000000000000000000000000000000000000000000000000000000000000000\n",
            "1e+308\n",
            "-inf\n",
            "5e-324\n"
          ]
        }
      ]
    },
    {
      "cell_type": "code",
      "source": [
        "# float (range:(-1.8e308,1.8e308))\n",
        "print(6.78)\n",
        "print(1.79e308)\n",
        "print(-1.79e308)\n",
        "print(2.4e-324)"
      ],
      "metadata": {
        "colab": {
          "base_uri": "https://localhost:8080/"
        },
        "id": "KHq5gGwZs4sO",
        "outputId": "3e840310-bf21-47c6-c4e9-51f788f2c69b"
      },
      "execution_count": null,
      "outputs": [
        {
          "output_type": "stream",
          "name": "stdout",
          "text": [
            "6.78\n",
            "1.79e+308\n",
            "-1.79e+308\n",
            "0.0\n"
          ]
        }
      ]
    },
    {
      "cell_type": "code",
      "source": [
        "#boolean\n",
        "print(True)\n",
        "print(False)"
      ],
      "metadata": {
        "colab": {
          "base_uri": "https://localhost:8080/"
        },
        "id": "ZMNrDQPEv4Xb",
        "outputId": "7f0c4121-9974-47b5-f7b2-0084df893f95"
      },
      "execution_count": null,
      "outputs": [
        {
          "output_type": "stream",
          "name": "stdout",
          "text": [
            "True\n",
            "False\n"
          ]
        }
      ]
    },
    {
      "cell_type": "code",
      "source": [
        "# Complex\n",
        "print(4+5j)\n",
        "print(5j)"
      ],
      "metadata": {
        "colab": {
          "base_uri": "https://localhost:8080/"
        },
        "id": "K4KG6UAtzCPJ",
        "outputId": "a8372b81-e9e6-49e1-b302-5e8dd5c600a6"
      },
      "execution_count": null,
      "outputs": [
        {
          "output_type": "stream",
          "name": "stdout",
          "text": [
            "(4+5j)\n",
            "5j\n"
          ]
        }
      ]
    },
    {
      "cell_type": "code",
      "source": [
        "# String\n",
        "print('Bangladesh')\n",
        "print(\"Bangladesh\")\n",
        "print(\"\"\"Bangladesh\"\"\")\n",
        "print('''Bangladesh''')"
      ],
      "metadata": {
        "colab": {
          "base_uri": "https://localhost:8080/"
        },
        "id": "oC67KbDFzLyt",
        "outputId": "96101c76-b28e-4203-89ef-174b5b543d57"
      },
      "execution_count": null,
      "outputs": [
        {
          "output_type": "stream",
          "name": "stdout",
          "text": [
            "Bangladesh\n",
            "Bangladesh\n",
            "Bangladesh\n",
            "Bangladesh\n"
          ]
        }
      ]
    },
    {
      "cell_type": "code",
      "source": [
        "# list\n",
        "print([8,7,6,5])"
      ],
      "metadata": {
        "colab": {
          "base_uri": "https://localhost:8080/"
        },
        "id": "WuyYP7A9zdey",
        "outputId": "a9220fac-c318-4e90-c7e1-812c70cc946b"
      },
      "execution_count": null,
      "outputs": [
        {
          "output_type": "stream",
          "name": "stdout",
          "text": [
            "[8, 7, 6, 5]\n"
          ]
        }
      ]
    },
    {
      "cell_type": "code",
      "source": [
        "# tuple\n",
        "print((8,7,6,5))"
      ],
      "metadata": {
        "colab": {
          "base_uri": "https://localhost:8080/"
        },
        "id": "uYNliZxAz3IZ",
        "outputId": "9d74250e-08f9-4e9f-d5b6-a34811c3acee"
      },
      "execution_count": null,
      "outputs": [
        {
          "output_type": "stream",
          "name": "stdout",
          "text": [
            "(8, 7, 6, 5)\n"
          ]
        }
      ]
    },
    {
      "cell_type": "code",
      "source": [
        "# set\n",
        "print({8,7,6,5})"
      ],
      "metadata": {
        "colab": {
          "base_uri": "https://localhost:8080/"
        },
        "id": "5hy7iDGTz8X-",
        "outputId": "ac0d033a-2ac9-47ca-c4e8-69847bc918fd"
      },
      "execution_count": null,
      "outputs": [
        {
          "output_type": "stream",
          "name": "stdout",
          "text": [
            "{8, 5, 6, 7}\n"
          ]
        }
      ]
    },
    {
      "cell_type": "code",
      "source": [
        "# dictionary ({\"Key Value\" : \"Key Name\"})\n",
        "print({\"Name\":\"Suraim\", \"Age\":22, \"Gender\":\"Male\"})"
      ],
      "metadata": {
        "colab": {
          "base_uri": "https://localhost:8080/"
        },
        "id": "Yc-YxqfKz_hf",
        "outputId": "f8fb880f-9b38-4af5-c271-1d527b131235"
      },
      "execution_count": null,
      "outputs": [
        {
          "output_type": "stream",
          "name": "stdout",
          "text": [
            "{'Name': 'Suraim', 'Age': 22, 'Gender': 'Male'}\n"
          ]
        }
      ]
    },
    {
      "cell_type": "code",
      "source": [
        "# Comment (The statement that completely ignored by the interpreter)"
      ],
      "metadata": {
        "id": "6hpCKMBg0t4P"
      },
      "execution_count": null,
      "outputs": []
    },
    {
      "cell_type": "code",
      "source": [
        "# Variables (containers for storing data)\n",
        "# C (data_type variable_name = value) -> Static Typing\n",
        "# Python (variable_name = value) -> Dynamic Typing\n",
        "# No variable declaration(specification of datatype) is needed in python\n",
        "# Variable is not binded to a single data type -> Dynamic Binding\n",
        "\n",
        "name = \"Suraim\"\n",
        "print(name)\n",
        "name = True\n",
        "print(name)\n",
        "name = 89\n",
        "print(name)"
      ],
      "metadata": {
        "colab": {
          "base_uri": "https://localhost:8080/"
        },
        "id": "RYUXlRou1da-",
        "outputId": "9333f47c-b9a0-49c5-d8cc-fe4430a55885"
      },
      "execution_count": null,
      "outputs": [
        {
          "output_type": "stream",
          "name": "stdout",
          "text": [
            "Suraim\n",
            "True\n",
            "89\n"
          ]
        }
      ]
    },
    {
      "cell_type": "code",
      "source": [
        "a=5; b=6; c=8\n",
        "print(a , b , c, sep = ' ')"
      ],
      "metadata": {
        "colab": {
          "base_uri": "https://localhost:8080/"
        },
        "id": "IrL4tOAk3eQD",
        "outputId": "e3a97ba1-2d2b-444e-8f91-4a33aa0de657"
      },
      "execution_count": null,
      "outputs": [
        {
          "output_type": "stream",
          "name": "stdout",
          "text": [
            "5 6 8\n"
          ]
        }
      ]
    },
    {
      "cell_type": "code",
      "source": [
        "a,b,c = 5,7,9\n",
        "print(a, b, c, sep = ' ')"
      ],
      "metadata": {
        "colab": {
          "base_uri": "https://localhost:8080/"
        },
        "id": "jTg5Dd9o4Ybd",
        "outputId": "ca6fcec1-6022-4be2-9e3a-93b94253a663"
      },
      "execution_count": null,
      "outputs": [
        {
          "output_type": "stream",
          "name": "stdout",
          "text": [
            "5 7 9\n"
          ]
        }
      ]
    },
    {
      "cell_type": "code",
      "source": [
        "a=b=c=10\n",
        "print(a,b,c,sep=' ')"
      ],
      "metadata": {
        "colab": {
          "base_uri": "https://localhost:8080/"
        },
        "id": "TnOeAM8Y4rOL",
        "outputId": "23c1cb66-927e-484b-a87e-bfc1e0654b56"
      },
      "execution_count": null,
      "outputs": [
        {
          "output_type": "stream",
          "name": "stdout",
          "text": [
            "10 10 10\n"
          ]
        }
      ]
    },
    {
      "cell_type": "code",
      "source": [
        "d,e,f = 's', True, 80\n",
        "print(d,e,f,sep=' ')"
      ],
      "metadata": {
        "colab": {
          "base_uri": "https://localhost:8080/"
        },
        "id": "cVDk29QR4ykG",
        "outputId": "c13db668-aa5f-4e4b-cdda-ab5c362510ac"
      },
      "execution_count": null,
      "outputs": [
        {
          "output_type": "stream",
          "name": "stdout",
          "text": [
            "s True 80\n"
          ]
        }
      ]
    },
    {
      "cell_type": "code",
      "source": [],
      "metadata": {
        "id": "3Qy7rQny5BvL"
      },
      "execution_count": null,
      "outputs": []
    }
  ]
}